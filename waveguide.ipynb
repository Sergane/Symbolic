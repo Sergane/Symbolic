{
 "cells": [
  {
   "cell_type": "markdown",
   "metadata": {},
   "source": [
    "# Метод частичной дискретизации с условиями излучения"
   ]
  },
  {
   "cell_type": "markdown",
   "metadata": {},
   "source": [
    "$$\\begin{cases}\n",
    "u_{xx}+u_{yy}+\\varkappa^2 \\rho(x,y)\\ u=f(x,y),\\quad (x,y)\\in(0,a)\\times(0,b), \\\\\n",
    "u(x,0)=u(x,b)=0, \\\\\n",
    "f(x,y) \\equiv 0,\\quad \\text{при}\\ x\\not\\in [0,a].\n",
    "\\end{cases}$$"
   ]
  },
  {
   "cell_type": "code",
   "execution_count": 347,
   "metadata": {},
   "outputs": [
    {
     "data": {
      "text/plain": [
       "matrix_thomas"
      ]
     },
     "execution_count": 347,
     "metadata": {},
     "output_type": "execute_result"
    }
   ],
   "source": [
    "\"\"\"\n",
    "A, B, C - вектор матриц, F - массив векторов. \\n\n",
    "Если, например, А - матрица, считаем, что предполагается вектор одинаковых матриц. \\n\n",
    "Если и A, и B, и С, и F - не векторы, длина вектора решения указывается через аргумент len.\n",
    "\"\"\"\n",
    "function matrix_thomas(A, B, C, F; typ=Float64, len=1, F_left=nothing)\n",
    "    v = filter(a->!(eltype(a) <: Number),[A,B,C,F])\n",
    "    N = len == 1 ? length(v[1]) : len\n",
    "    K = len == 1 ? size(v[1][1],1) : size(A,1)\n",
    "    a = zeros(typ,N+1,K,K)\n",
    "    b = zeros(typ,N+1,K)\n",
    "\n",
    "    inside(a,b) = true in map(el->isequal(el,a),b)\n",
    "    \n",
    "    An = inside(A,v) ? n->A[n] : n->A\n",
    "    Bn = inside(B,v) ? n->B[n] : n->B\n",
    "    Cn = inside(C,v) ? n->C[n] : n->C\n",
    "    Fn = inside(F,v) ? n->F[n] : n->F\n",
    "\n",
    "    for n = 1:N\n",
    "        a[n+1,:,:] = -Cn(n) / (An(n)*a[n,:,:] + Bn(n))\n",
    "        b[n+1,:] = (Fn(n) - An(n)*b[n,:])' / (An(n)*a[n,:,:] + Bn(n))\n",
    "        println(\"direct, step: $n\")\n",
    "    end\n",
    "\n",
    "    x = zeros(typ,K,N+1)\n",
    "    for n = N:-1:1\n",
    "        x[:,n] = a[n+1,:,:]*x[:,n+1] + b[n+1,:]\n",
    "        println(\"reverse, step: $n\")\n",
    "    end\n",
    "\n",
    "    return x[:,1:N]\n",
    "end"
   ]
  },
  {
   "cell_type": "code",
   "execution_count": 184,
   "metadata": {},
   "outputs": [
    {
     "data": {
      "text/plain": [
       "f (generic function with 2 methods)"
      ]
     },
     "execution_count": 184,
     "metadata": {},
     "output_type": "execute_result"
    }
   ],
   "source": [
    "a, b = 2, 1\n",
    "k = 12\n",
    "a1, a2 = 0.5, 1.5\n",
    "r1, r2 = 1, 1.8\n",
    "\n",
    "K = 200\n",
    "N_ = 200\n",
    "h = a/(N_-1)\n",
    "x = range(0,stop=a,length=N_)\n",
    "y = range(0,stop=b,length=K)\n",
    "\n",
    "mu(k) = pi*k/b\n",
    "f(y,k) = sqrt(2/b)*sin(pi*k/b*y)"
   ]
  },
  {
   "cell_type": "code",
   "execution_count": 9,
   "metadata": {},
   "outputs": [
    {
     "data": {
      "text/plain": [
       "#31 (generic function with 1 method)"
      ]
     },
     "execution_count": 9,
     "metadata": {},
     "output_type": "execute_result"
    }
   ],
   "source": [
    "f(x) = 0.2*(x-a1)/(a2-a1)\n",
    "g(x) = x <= a1 ? 0 : x <= a2 ? f(x) : 0.2\n",
    "\n",
    "f1 = x -> b/2-0.1 - g(x)\n",
    "f2 = x -> b/2 - g(x)\n",
    "f3 = x -> b/2 + g(x)\n",
    "f4 = x -> b/2+0.1 + g(x)"
   ]
  },
  {
   "cell_type": "code",
   "execution_count": 360,
   "metadata": {},
   "outputs": [
    {
     "data": {
      "image/png": "[encoded data removed]"
     },
     "execution_count": 360,
     "metadata": {},
     "output_type": "execute_result"
    }
   ],
   "source": [
    "using LaTeXStrings\n",
    "using Plots\n",
    "pyplot(fmt=\"png\")\n",
    "\n",
    "plot( x, f1.(x), c=:red, alpha=0.5, ylim=(0,b), aspect_ratio=1, label=L\"\\rho(x)\")\n",
    "plot!(x, f2.(x), c=:red, alpha=0.5, label=\"\")\n",
    "plot!(x, f3.(x), c=:red, alpha=0.5, label=\"\")\n",
    "plot!(x, f4.(x), c=:red, alpha=0.5, label=\"\")"
   ]
  },
  {
   "cell_type": "code",
   "execution_count": 11,
   "metadata": {},
   "outputs": [
    {
     "data": {
      "text/latex": [
       "\\begin{equation*}\\begin{cases} \\frac{2 \\left(- k_{1} \\sin{\\left (\\pi k_{2} y \\right )} \\cos{\\left (\\pi k_{1} y \\right )} + k_{2} \\sin{\\left (\\pi k_{1} y \\right )} \\cos{\\left (\\pi k_{2} y \\right )}\\right)}{\\pi \\left(k_{1}^{2} - k_{2}^{2}\\right)} & \\text{for}\\: k_{1} \\neq k_{2} \\\\\\frac{\\pi k_{2} y - \\frac{\\sin{\\left (2 \\pi k_{2} y \\right )}}{2}}{\\pi k_{2}} & \\text{otherwise} \\end{cases}\\end{equation*}"
      ],
      "text/plain": [
       "⎧2⋅(-k₁⋅sin(π⋅k₂⋅y)⋅cos(π⋅k₁⋅y) + k₂⋅sin(π⋅k₁⋅y)⋅cos(π⋅k₂⋅y))             \n",
       "⎪────────────────────────────────────────────────────────────  for k₁ ≠ k₂\n",
       "⎪                         ⎛  2     2⎞                                     \n",
       "⎪                       π⋅⎝k₁  - k₂ ⎠                                     \n",
       "⎪                                                                         \n",
       "⎨                            sin(2⋅π⋅k₂⋅y)                                \n",
       "⎪                   π⋅k₂⋅y - ─────────────                                \n",
       "⎪                                  2                                      \n",
       "⎪                   ──────────────────────                      otherwise \n",
       "⎪                            π⋅k₂                                         \n",
       "⎩                                                                         "
      ]
     },
     "execution_count": 11,
     "metadata": {},
     "output_type": "execute_result"
    }
   ],
   "source": [
    "using LinearAlgebra\n",
    "using SymPy\n",
    "\n",
    "y1 = Sym(\"y\")\n",
    "k1,k2 = symbols(\"k_1 k_2\", positive=true, integer=true)\n",
    "ff = simplify(integrate( 2/Sym(b)*sin(pi*k1/Sym(b)*y1)*sin(pi*k2/Sym(b)*y1), y1 ))"
   ]
  },
  {
   "cell_type": "markdown",
   "metadata": {},
   "source": [
    "\\begin{equation*} \\int\\limits_0^b\\varphi_{k_1}(y)\\rho(x_n,y)\\varphi_{k_2}(y)dy = \n",
    "   \\begin{cases}\n",
    "   I_1,\\ x_n\\in (0,a_1), \\\\\n",
    "   I_2,\\ x_n\\in [a_1,a_2], \\\\\n",
    "   I_3,\\ x_n\\in (a_2,a).\n",
    "   \\end{cases}\n",
    "\\end{equation*}\n",
    "$I_1 = \\rho_1\\delta_{k_1,k_2} + (\\rho_2-\\rho_1)\\int\\limits_{\\frac{b}{2}-0.1}^{\\frac{b}{2}+0.1}\n",
    "\\varphi_{k_1}\\varphi_{k_2}dy,$  \n",
    "$I_2 = \\rho_1\\delta_{k_1,k_2} + (\\rho_2-\\rho_1)\\int\\limits_{\\frac{b}{2}-0.1-f(x_n)}^{\\frac{b}{2}-f(x_n)}\n",
    "\\varphi_{k_1}\\varphi_{k_2}dy  + (\\rho_2-\\rho_1)\\int\\limits_{\\frac{b}{2}+f(x_n)}^{\\frac{b}{2}+0.1+f(x_n)}\n",
    "\\varphi_{k_1}\\varphi_{k_2}dy,$  \n",
    "$I_3 = \\rho_1\\delta_{k_1,k_2} + (\\rho_2-\\rho_1)\\int\\limits_{\\frac{b}{2}-0.3}^{\\frac{b}{2}-0.2}\n",
    "\\varphi_{k_1}\\varphi_{k_2}dy  + (\\rho_2-\\rho_1)\\int\\limits_{\\frac{b}{2}+0.2}^{\\frac{b}{2}+0.3}\n",
    "\\varphi_{k_1}\\varphi_{k_2}dy,$"
   ]
  },
  {
   "cell_type": "code",
   "execution_count": 79,
   "metadata": {},
   "outputs": [
    {
     "data": {
      "text/plain": [
       "YrY (generic function with 2 methods)"
      ]
     },
     "execution_count": 79,
     "metadata": {},
     "output_type": "execute_result"
    }
   ],
   "source": [
    "ff_ij = lambdify(evalf( ff[:args]()[1][:args]()[1] ),[k1,k2,y1])\n",
    "ff_ii = lambdify(evalf( ff[:args]()[2][:args]()[1] ),[k2,y1])\n",
    "I_ij(i,j,n)   = ff_ij(i,j,f4(x[n]))-ff_ij(i,j,f3(x[n]))+ff_ij(i,j,f2(x[n]))-ff_ij(i,j,f1(x[n]))\n",
    "I_ii(i,n)     = ff_ii(i,  f4(x[n]))-ff_ii(i,  f3(x[n]))+ff_ii(i,  f2(x[n]))-ff_ii(i,  f1(x[n]))\n",
    "\n",
    "function YrY(n,K)\n",
    "    global r1,r2\n",
    "    yry = zeros(K,K)\n",
    "    for i=1:K, j=i+1:K\n",
    "        yry[i,j] = I_ij(i,j,n)\n",
    "        yry[j,i] = yry[i,j]\n",
    "    end\n",
    "    for i=1:K\n",
    "        yry[i,i] = I_ii(i,n)\n",
    "    end\n",
    "    return  I*r1 + (r2-r1)*yry\n",
    "end"
   ]
  },
  {
   "cell_type": "code",
   "execution_count": 373,
   "metadata": {},
   "outputs": [
    {
     "data": {
      "text/plain": [
       "4-element Array{Int64,1}:\n",
       " 197\n",
       " 198\n",
       " 199\n",
       " 200"
      ]
     },
     "execution_count": 373,
     "metadata": {},
     "output_type": "execute_result"
    }
   ],
   "source": [
    "using LinearAlgebra\n",
    "\n",
    "K_cross = K\n",
    "M_square = diagm(0=>mu.(1:K_cross).^2)\n",
    "A1 = k^2*YrY(1,K_cross) - M_square\n",
    "L1 = eigvals(A1)\n",
    "J = filter(z->L1[z]>0,1:K_cross)"
   ]
  },
  {
   "cell_type": "code",
   "execution_count": 374,
   "metadata": {},
   "outputs": [],
   "source": [
    "c = eigvecs(A1);"
   ]
  },
  {
   "cell_type": "code",
   "execution_count": 375,
   "metadata": {},
   "outputs": [
    {
     "data": {
      "image/png": "[encoded data removed]"
     },
     "execution_count": 375,
     "metadata": {},
     "output_type": "execute_result"
    }
   ],
   "source": [
    "cross_section(y,n) = sum([f(y,i)*c[i,n] for i=1:K])\n",
    "\n",
    "plot(legend=:topleft)\n",
    "for i in J[end:end]\n",
    "    plot!(y, cross_section.(y,i), label=\"$i\")\n",
    "end\n",
    "plot!()"
   ]
  },
  {
   "cell_type": "markdown",
   "metadata": {},
   "source": [
    "Невязка:\n",
    "$r_n(y)=\\Psi_1 C_1(\\varkappa^2\\rho(x_0,y)-\\gamma_n^2-\\mu_1^2)+\\dotso+\\Psi_K C_K (\\varkappa^2\\rho(x_0,y)-\n",
    "  \\gamma_n^2-\\mu_K^2)$"
   ]
  },
  {
   "cell_type": "code",
   "execution_count": 376,
   "metadata": {},
   "outputs": [
    {
     "data": {
      "image/png": "[encoded data removed]"
     },
     "execution_count": 376,
     "metadata": {},
     "output_type": "execute_result"
    }
   ],
   "source": [
    "residual(y0,n) = sum([f(y0,i)*c[i,n]*(k^2*(z -> f1(0)<z<f4(0) ? r2 : r1)(y0)-L1[n]-mu(i)^2) for i=1:K])\n",
    "plot()\n",
    "for k in J[end:end]\n",
    "    plot!(0:b/500:b,residual.(0:b/500:b,k),label=\"$k\")\n",
    "end\n",
    "plot!()"
   ]
  },
  {
   "cell_type": "code",
   "execution_count": 377,
   "metadata": {},
   "outputs": [
    {
     "data": {
      "text/plain": [
       "4-element Array{Float64,1}:\n",
       " -9.417636273318468 \n",
       " -3.231251273662304 \n",
       " -1.400696759085605 \n",
       "  2.1313094179614716"
      ]
     },
     "execution_count": 377,
     "metadata": {},
     "output_type": "execute_result"
    }
   ],
   "source": [
    "sqrt.(L1[J]).-k"
   ]
  },
  {
   "cell_type": "code",
   "execution_count": 378,
   "metadata": {},
   "outputs": [
    {
     "data": {
      "text/plain": [
       "14.131309417961472"
      ]
     },
     "execution_count": 378,
     "metadata": {},
     "output_type": "execute_result"
    }
   ],
   "source": [
    "sqrt(L1[J[end]])"
   ]
  },
  {
   "cell_type": "code",
   "execution_count": 379,
   "metadata": {},
   "outputs": [],
   "source": [
    "gamma1 = sqrt.(Complex.(L1[end-K+1:end]));"
   ]
  },
  {
   "cell_type": "code",
   "execution_count": 380,
   "metadata": {},
   "outputs": [],
   "source": [
    "A3 = k^2*YrY(N_,K_cross) - M_square\n",
    "L3 = eigvals(A3)\n",
    "gamma3 = sqrt.(Complex.(L3[end-K+1:end]));"
   ]
  },
  {
   "cell_type": "markdown",
   "metadata": {},
   "source": [
    "Условия излучения:  \n",
    "$\\begin{cases}\n",
    "\\left.(i\\Gamma_{(1)} X+X')\\right|_{x=0} = 2i\\Gamma_{(1)} A, \\\\\n",
    "\\left.(i\\Gamma_{(3)} X-X')\\right|_{x=a} = 2i\\Gamma_{(3)} B.\n",
    "\\end{cases}$"
   ]
  },
  {
   "cell_type": "code",
   "execution_count": 381,
   "metadata": {},
   "outputs": [],
   "source": [
    "M_square = diagm(0=>mu.(1:K).^2)\n",
    "G1 = diagm(0=>gamma1)\n",
    "G3 = diagm(0=>gamma3);"
   ]
  },
  {
   "cell_type": "code",
   "execution_count": 382,
   "metadata": {},
   "outputs": [],
   "source": [
    "A = diagm(0=>ones(K))\n",
    "B1 = fill(-2*I - h^2*M_square + h^2*k^2*YrY(1),  sum(x .<= a1)-2)\n",
    "B2 = [-2*I - h^2*M_square + h^2*k^2*YrY(n) for n in filter(i->(a1 .< x[i] .< a2), 1:N_)]\n",
    "B3 = fill(-2*I - h^2*M_square + h^2*k^2*YrY(N_), sum(a2 .<= x .<= a)-2)\n",
    "B = [[B1[1]/2+h*im*G1]; B1; B2; B3; [B3[1]/2+h*im*G3]]\n",
    "C_ = diagm(0=>ones(K));"
   ]
  },
  {
   "cell_type": "code",
   "execution_count": 383,
   "metadata": {},
   "outputs": [],
   "source": [
    "F0 = 2h*im*G1*[1; zeros(K-1)]\n",
    "F = [[F0]; fill(zeros(K),N_-3)];"
   ]
  },
  {
   "cell_type": "code",
   "execution_count": 384,
   "metadata": {
    "scrolled": true
   },
   "outputs": [
    {
     "name": "stdout",
     "output_type": "stream",
     "text": [
      "direct, step: 1\n",
      "direct, step: 2\n",
      "direct, step: 3\n",
      "direct, step: 4\n",
      "direct, step: 5\n",
      "direct, step: 6\n",
      "direct, step: 7\n",
      "direct, step: 8\n",
      "direct, step: 9\n",
      "direct, step: 10\n",
      "direct, step: 11\n",
      "direct, step: 12\n",
      "direct, step: 13\n",
      "direct, step: 14\n",
      "direct, step: 15\n",
      "direct, step: 16\n",
      "direct, step: 17\n",
      "direct, step: 18\n",
      "direct, step: 19\n",
      "direct, step: 20\n",
      "direct, step: 21\n",
      "direct, step: 22\n",
      "direct, step: 23\n",
      "direct, step: 24\n",
      "direct, step: 25\n",
      "direct, step: 26\n",
      "direct, step: 27\n",
      "direct, step: 28\n",
      "direct, step: 29\n",
      "direct, step: 30\n",
      "direct, step: 31\n",
      "direct, step: 32\n",
      "direct, step: 33\n",
      "direct, step: 34\n",
      "direct, step: 35\n",
      "direct, step: 36\n",
      "direct, step: 37\n",
      "direct, step: 38\n",
      "direct, step: 39\n",
      "direct, step: 40\n",
      "direct, step: 41\n",
      "direct, step: 42\n",
      "direct, step: 43\n",
      "direct, step: 44\n",
      "direct, step: 45\n",
      "direct, step: 46\n",
      "direct, step: 47\n",
      "direct, step: 48\n",
      "direct, step: 49\n",
      "direct, step: 50\n",
      "direct, step: 51\n",
      "direct, step: 52\n",
      "direct, step: 53\n",
      "direct, step: 54\n",
      "direct, step: 55\n",
      "direct, step: 56\n",
      "direct, step: 57\n",
      "direct, step: 58\n",
      "direct, step: 59\n",
      "direct, step: 60\n",
      "direct, step: 61\n",
      "direct, step: 62\n",
      "direct, step: 63\n",
      "direct, step: 64\n",
      "direct, step: 65\n",
      "direct, step: 66\n",
      "direct, step: 67\n",
      "direct, step: 68\n",
      "direct, step: 69\n",
      "direct, step: 70\n",
      "direct, step: 71\n",
      "direct, step: 72\n",
      "direct, step: 73\n",
      "direct, step: 74\n",
      "direct, step: 75\n",
      "direct, step: 76\n",
      "direct, step: 77\n",
      "direct, step: 78\n",
      "direct, step: 79\n",
      "direct, step: 80\n",
      "direct, step: 81\n",
      "direct, step: 82\n",
      "direct, step: 83\n",
      "direct, step: 84\n",
      "direct, step: 85\n",
      "direct, step: 86\n",
      "direct, step: 87\n",
      "direct, step: 88\n",
      "direct, step: 89\n",
      "direct, step: 90\n",
      "direct, step: 91\n",
      "direct, step: 92\n",
      "direct, step: 93\n",
      "direct, step: 94\n",
      "direct, step: 95\n",
      "direct, step: 96\n",
      "direct, step: 97\n",
      "direct, step: 98\n",
      "direct, step: 99\n",
      "direct, step: 100\n",
      "direct, step: 101\n",
      "direct, step: 102\n",
      "direct, step: 103\n",
      "direct, step: 104\n",
      "direct, step: 105\n",
      "direct, step: 106\n",
      "direct, step: 107\n",
      "direct, step: 108\n",
      "direct, step: 109\n",
      "direct, step: 110\n",
      "direct, step: 111\n",
      "direct, step: 112\n",
      "direct, step: 113\n",
      "direct, step: 114\n",
      "direct, step: 115\n",
      "direct, step: 116\n",
      "direct, step: 117\n",
      "direct, step: 118\n",
      "direct, step: 119\n",
      "direct, step: 120\n",
      "direct, step: 121\n",
      "direct, step: 122\n",
      "direct, step: 123\n",
      "direct, step: 124\n",
      "direct, step: 125\n",
      "direct, step: 126\n",
      "direct, step: 127\n",
      "direct, step: 128\n",
      "direct, step: 129\n",
      "direct, step: 130\n",
      "direct, step: 131\n",
      "direct, step: 132\n",
      "direct, step: 133\n",
      "direct, step: 134\n",
      "direct, step: 135\n",
      "direct, step: 136\n",
      "direct, step: 137\n",
      "direct, step: 138\n",
      "direct, step: 139\n",
      "direct, step: 140\n",
      "direct, step: 141\n",
      "direct, step: 142\n",
      "direct, step: 143\n",
      "direct, step: 144\n",
      "direct, step: 145\n",
      "direct, step: 146\n",
      "direct, step: 147\n",
      "direct, step: 148\n",
      "direct, step: 149\n",
      "direct, step: 150\n",
      "direct, step: 151\n",
      "direct, step: 152\n",
      "direct, step: 153\n",
      "direct, step: 154\n",
      "direct, step: 155\n",
      "direct, step: 156\n",
      "direct, step: 157\n",
      "direct, step: 158\n",
      "direct, step: 159\n",
      "direct, step: 160\n",
      "direct, step: 161\n",
      "direct, step: 162\n",
      "direct, step: 163\n",
      "direct, step: 164\n",
      "direct, step: 165\n",
      "direct, step: 166\n",
      "direct, step: 167\n",
      "direct, step: 168\n",
      "direct, step: 169\n",
      "direct, step: 170\n",
      "direct, step: 171\n",
      "direct, step: 172\n",
      "direct, step: 173\n",
      "direct, step: 174\n",
      "direct, step: 175\n",
      "direct, step: 176\n",
      "direct, step: 177\n",
      "direct, step: 178\n",
      "direct, step: 179\n",
      "direct, step: 180\n",
      "direct, step: 181\n",
      "direct, step: 182\n",
      "direct, step: 183\n",
      "direct, step: 184\n",
      "direct, step: 185\n",
      "direct, step: 186\n",
      "direct, step: 187\n",
      "direct, step: 188\n",
      "direct, step: 189\n",
      "direct, step: 190\n",
      "direct, step: 191\n",
      "direct, step: 192\n",
      "direct, step: 193\n",
      "direct, step: 194\n",
      "direct, step: 195\n",
      "direct, step: 196\n",
      "direct, step: 197\n",
      "direct, step: 198\n",
      "reverse, step: 198\n",
      "reverse, step: 197\n",
      "reverse, step: 196\n",
      "reverse, step: 195\n",
      "reverse, step: 194\n",
      "reverse, step: 193\n",
      "reverse, step: 192\n",
      "reverse, step: 191\n",
      "reverse, step: 190\n",
      "reverse, step: 189\n",
      "reverse, step: 188\n",
      "reverse, step: 187\n",
      "reverse, step: 186\n",
      "reverse, step: 185\n",
      "reverse, step: 184\n",
      "reverse, step: 183\n",
      "reverse, step: 182\n",
      "reverse, step: 181\n",
      "reverse, step: 180\n",
      "reverse, step: 179\n",
      "reverse, step: 178\n",
      "reverse, step: 177\n",
      "reverse, step: 176\n",
      "reverse, step: 175\n",
      "reverse, step: 174\n",
      "reverse, step: 173\n",
      "reverse, step: 172\n",
      "reverse, step: 171\n",
      "reverse, step: 170\n",
      "reverse, step: 169\n",
      "reverse, step: 168\n",
      "reverse, step: 167\n",
      "reverse, step: 166\n",
      "reverse, step: 165\n",
      "reverse, step: 164\n",
      "reverse, step: 163\n",
      "reverse, step: 162\n",
      "reverse, step: 161\n",
      "reverse, step: 160\n",
      "reverse, step: 159\n",
      "reverse, step: 158\n",
      "reverse, step: 157\n",
      "reverse, step: 156\n",
      "reverse, step: 155\n",
      "reverse, step: 154\n",
      "reverse, step: 153\n",
      "reverse, step: 152\n",
      "reverse, step: 151\n",
      "reverse, step: 150\n",
      "reverse, step: 149\n",
      "reverse, step: 148\n",
      "reverse, step: 147\n",
      "reverse, step: 146\n",
      "reverse, step: 145\n",
      "reverse, step: 144\n",
      "reverse, step: 143\n",
      "reverse, step: 142\n",
      "reverse, step: 141\n",
      "reverse, step: 140\n",
      "reverse, step: 139\n",
      "reverse, step: 138\n",
      "reverse, step: 137\n",
      "reverse, step: 136\n",
      "reverse, step: 135\n",
      "reverse, step: 134\n",
      "reverse, step: 133\n",
      "reverse, step: 132\n",
      "reverse, step: 131\n",
      "reverse, step: 130\n",
      "reverse, step: 129\n",
      "reverse, step: 128\n",
      "reverse, step: 127\n",
      "reverse, step: 126\n",
      "reverse, step: 125\n",
      "reverse, step: 124\n",
      "reverse, step: 123\n",
      "reverse, step: 122\n",
      "reverse, step: 121\n",
      "reverse, step: 120\n",
      "reverse, step: 119\n",
      "reverse, step: 118\n",
      "reverse, step: 117\n",
      "reverse, step: 116\n",
      "reverse, step: 115\n",
      "reverse, step: 114\n",
      "reverse, step: 113\n",
      "reverse, step: 112\n",
      "reverse, step: 111\n",
      "reverse, step: 110\n",
      "reverse, step: 109\n",
      "reverse, step: 108\n",
      "reverse, step: 107\n",
      "reverse, step: 106\n",
      "reverse, step: 105\n",
      "reverse, step: 104\n",
      "reverse, step: 103\n",
      "reverse, step: 102\n",
      "reverse, step: 101\n",
      "reverse, step: 100\n",
      "reverse, step: 99\n",
      "reverse, step: 98\n",
      "reverse, step: 97\n",
      "reverse, step: 96\n",
      "reverse, step: 95\n",
      "reverse, step: 94\n",
      "reverse, step: 93\n",
      "reverse, step: 92\n",
      "reverse, step: 91\n",
      "reverse, step: 90\n",
      "reverse, step: 89\n",
      "reverse, step: 88\n",
      "reverse, step: 87\n",
      "reverse, step: 86\n",
      "reverse, step: 85\n",
      "reverse, step: 84\n",
      "reverse, step: 83\n",
      "reverse, step: 82\n",
      "reverse, step: 81\n",
      "reverse, step: 80\n",
      "reverse, step: 79\n",
      "reverse, step: 78\n",
      "reverse, step: 77\n",
      "reverse, step: 76\n",
      "reverse, step: 75\n",
      "reverse, step: 74\n",
      "reverse, step: 73\n",
      "reverse, step: 72\n",
      "reverse, step: 71\n",
      "reverse, step: 70\n",
      "reverse, step: 69\n",
      "reverse, step: 68\n",
      "reverse, step: 67\n",
      "reverse, step: 66\n",
      "reverse, step: 65\n",
      "reverse, step: 64\n",
      "reverse, step: 63\n",
      "reverse, step: 62\n",
      "reverse, step: 61\n",
      "reverse, step: 60\n",
      "reverse, step: 59\n",
      "reverse, step: 58\n",
      "reverse, step: 57\n",
      "reverse, step: 56\n",
      "reverse, step: 55\n",
      "reverse, step: 54\n",
      "reverse, step: 53\n",
      "reverse, step: 52\n",
      "reverse, step: 51\n",
      "reverse, step: 50\n",
      "reverse, step: 49\n",
      "reverse, step: 48\n",
      "reverse, step: 47\n",
      "reverse, step: 46\n",
      "reverse, step: 45\n",
      "reverse, step: 44\n",
      "reverse, step: 43\n",
      "reverse, step: 42\n",
      "reverse, step: 41\n",
      "reverse, step: 40\n",
      "reverse, step: 39\n",
      "reverse, step: 38\n",
      "reverse, step: 37\n",
      "reverse, step: 36\n",
      "reverse, step: 35\n",
      "reverse, step: 34\n",
      "reverse, step: 33\n",
      "reverse, step: 32\n",
      "reverse, step: 31\n",
      "reverse, step: 30\n",
      "reverse, step: 29\n",
      "reverse, step: 28\n",
      "reverse, step: 27\n",
      "reverse, step: 26\n",
      "reverse, step: 25\n",
      "reverse, step: 24\n",
      "reverse, step: 23\n",
      "reverse, step: 22\n",
      "reverse, step: 21\n",
      "reverse, step: 20\n",
      "reverse, step: 19\n",
      "reverse, step: 18\n",
      "reverse, step: 17\n",
      "reverse, step: 16\n",
      "reverse, step: 15\n",
      "reverse, step: 14\n",
      "reverse, step: 13\n",
      "reverse, step: 12\n",
      "reverse, step: 11\n",
      "reverse, step: 10\n",
      "reverse, step: 9\n",
      "reverse, step: 8\n",
      "reverse, step: 7\n",
      "reverse, step: 6\n",
      "reverse, step: 5\n",
      "reverse, step: 4\n",
      "reverse, step: 3\n",
      "reverse, step: 2\n",
      "reverse, step: 1\n"
     ]
    },
    {
     "data": {
      "text/plain": [
       "200×198 Array{Complex,2}:\n",
       "       2.0021+4.70996e-12im  …      0.041811+1.4887e-14im \n",
       " -1.14612e-18+9.45466e-27im      2.81847e-18-2.95072e-29im\n",
       "  -0.00620073-8.553e-13im         2.02626e-5+7.86605e-15im\n",
       " -1.20564e-19-1.51807e-27im      8.83257e-19+3.50268e-30im\n",
       "   0.00372737+5.53575e-13im      -0.00361488-2.17136e-15im\n",
       "  9.96861e-19+6.98369e-28im  …  -2.23212e-19+6.81615e-30im\n",
       "   -0.0020973-1.8567e-13im       -0.00157706-9.0534e-16im \n",
       " -3.04051e-19-3.25555e-28im     -9.85395e-19-3.13305e-30im\n",
       "   0.00059326+2.64332e-14im       0.00105441+6.32899e-16im\n",
       " -1.03412e-19+1.10553e-28im       1.4413e-19-1.83662e-30im\n",
       "  0.000298579+3.31852e-14im  …   0.000460822+1.93211e-16im\n",
       "  4.71437e-19+1.79751e-29im      4.00778e-19+2.74121e-30im\n",
       " -0.000654169-4.18551e-14im     -0.000360437-2.66103e-16im\n",
       "             ⋮               ⋱                            \n",
       "   1.28299e-6-5.78876e-14im       1.23214e-7+1.74987e-17im\n",
       " -2.05742e-22-5.20581e-27im      3.44574e-23-7.04407e-29im\n",
       "   1.22983e-6+1.96823e-13im  …    1.18159e-7-8.31949e-16im\n",
       "  2.77167e-20+5.35147e-27im       1.9251e-21+1.94841e-30im\n",
       "   -3.1505e-6-3.39294e-13im      -1.18391e-7-1.67713e-17im\n",
       "  2.13143e-20-1.56708e-28im     -7.30045e-22+1.08998e-28im\n",
       "   3.79785e-6+4.55626e-13im      -6.65383e-8+9.96639e-16im\n",
       "  6.80934e-20+1.19954e-26im  …  -1.54331e-21+1.28291e-29im\n",
       "  -3.00537e-6-3.83288e-9im        7.15774e-8+9.96404e-18im\n",
       " -3.34383e-20-1.43412e-22im     -3.97882e-22-1.68452e-24im\n",
       "   1.11979e-6+5.75001e-9im       -3.03464e-9-1.83387e-11im\n",
       " -1.91599e-22-1.28419e-24im      8.66081e-24+5.39519e-26im"
      ]
     },
     "execution_count": 384,
     "metadata": {},
     "output_type": "execute_result"
    }
   ],
   "source": [
    "X_in = matrix_thomas(A,B,C_,F,typ=Complex)"
   ]
  },
  {
   "cell_type": "code",
   "execution_count": 396,
   "metadata": {},
   "outputs": [],
   "source": [
    "X0 = X_in[:,2] + 2h*im*G1*(X_in[:,1]-2*[1; zeros(K-1)])\n",
    "XN = X_in[:,end-1] - 2h*im*G3*X_in[:,end]\n",
    "X_sol = real.([X0 X_in XN])\n",
    "u = reshape([dot(f.(y_i,1:K), X_sol[1:K,n]) for n=1:N_ for y_i in y], length(y), length(x));"
   ]
  },
  {
   "cell_type": "code",
   "execution_count": 372,
   "metadata": {
    "scrolled": false
   },
   "outputs": [
    {
     "data": {
      "image/png": "[encoded data removed]",
      "text/plain": [
       "PyPlot.Figure(PyObject <Figure size 600x400 with 2 Axes>)"
      ]
     },
     "metadata": {},
     "output_type": "display_data"
    }
   ],
   "source": [
    "plot(x,y,u,fill=true,aspect_ratio=1)\n",
    "plot!(x, f1.(x), c=:red, alpha=0.5, ylim=(0,b), aspect_ratio=1, leg=false)\n",
    "plot!(x, f2.(x), c=:red, alpha=0.5)\n",
    "plot!(x, f3.(x), c=:red, alpha=0.5)\n",
    "plot!(x, f4.(x), c=:red, alpha=0.5)\n",
    "# savefig(\"waveguide.png\") # K_cross = 4000"
   ]
  },
  {
   "cell_type": "code",
   "execution_count": 399,
   "metadata": {},
   "outputs": [
    {
     "data": {
      "image/png": "[encoded data removed]"
     },
     "execution_count": 399,
     "metadata": {},
     "output_type": "execute_result"
    }
   ],
   "source": [
    "plot(x,y,u,fill=true,aspect_ratio=1)\n",
    "plot!(x, f1.(x), c=:red, alpha=0.5, ylim=(0,b), aspect_ratio=1, leg=false)\n",
    "plot!(x, f2.(x), c=:red, alpha=0.5)\n",
    "plot!(x, f3.(x), c=:red, alpha=0.5)\n",
    "plot!(x, f4.(x), c=:red, alpha=0.5)"
   ]
  },
  {
   "cell_type": "code",
   "execution_count": null,
   "metadata": {},
   "outputs": [],
   "source": []
  }
 ],
 "metadata": {
  "kernelspec": {
   "display_name": "Julia 1.0.1",
   "language": "julia",
   "name": "julia-1.0"
  },
  "language_info": {
   "file_extension": ".jl",
   "mimetype": "application/julia",
   "name": "julia",
   "version": "1.0.2"
  }
 },
 "nbformat": 4,
 "nbformat_minor": 2
}
