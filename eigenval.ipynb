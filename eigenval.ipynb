{
 "cells": [
  {
   "cell_type": "markdown",
   "metadata": {},
   "source": [
    "# Разложение СЗ возмущенной матрицы в ряд по дробным степеням"
   ]
  },
  {
   "cell_type": "code",
   "execution_count": 1,
   "metadata": {},
   "outputs": [],
   "source": [
    "using SymPy\n",
    "using LinearAlgebra"
   ]
  },
  {
   "cell_type": "code",
   "execution_count": 15,
   "metadata": {},
   "outputs": [
    {
     "data": {
      "text/latex": [
       "\\begin{bmatrix}3&2&0&0&0\\\\0&3&2&0&0\\\\0&0&3&2&0\\\\0&0&0&3&2\\\\0&0&0&0&3\\end{bmatrix}"
      ],
      "text/plain": [
       "5×5 Array{Sym,2}:\n",
       " 3  2  0  0  0\n",
       " 0  3  2  0  0\n",
       " 0  0  3  2  0\n",
       " 0  0  0  3  2\n",
       " 0  0  0  0  3"
      ]
     },
     "execution_count": 15,
     "metadata": {},
     "output_type": "execute_result"
    }
   ],
   "source": [
    "n = 5\n",
    "a = 2;   b = 3;\n",
    "\n",
    "A = diagm(0=>b*ones(Sym, n),1=>a*ones(Sym, n-1))"
   ]
  },
  {
   "cell_type": "code",
   "execution_count": 16,
   "metadata": {},
   "outputs": [
    {
     "data": {
      "text/latex": [
       "\\begin{bmatrix}3&2&0&0&0\\\\x&3&2&0&0\\\\x^{2}&x&3&2&0\\\\0&x&0&3&2\\\\x&x^{2}&0&0&3\\end{bmatrix}"
      ],
      "text/plain": [
       "5×5 Array{Sym,2}:\n",
       "   3    2  0  0  0\n",
       "   x    3  2  0  0\n",
       " x^2    x  3  2  0\n",
       "   0    x  0  3  2\n",
       "   x  x^2  0  0  3"
      ]
     },
     "execution_count": 16,
     "metadata": {},
     "output_type": "execute_result"
    }
   ],
   "source": [
    "x = Sym(\"x\")\n",
    "A[2,1] = x\n",
    "A[3,1] = x^2\n",
    "A[3,2] = x\n",
    "A[4,2] = x\n",
    "A[5,1] = x\n",
    "A[5,2] = x^2\n",
    "A"
   ]
  },
  {
   "cell_type": "code",
   "execution_count": 17,
   "metadata": {},
   "outputs": [
    {
     "data": {
      "text/latex": [
       "$$3$$"
      ],
      "text/plain": [
       "3"
      ]
     },
     "execution_count": 17,
     "metadata": {},
     "output_type": "execute_result"
    }
   ],
   "source": [
    "l0 = eigvals(subs(A, x, 0))[1]"
   ]
  },
  {
   "cell_type": "code",
   "execution_count": 18,
   "metadata": {},
   "outputs": [
    {
     "data": {
      "text/latex": [
       "$$\\lambda^{5} - 15 \\lambda^{4} + \\lambda^{3} \\left(- 4 x + 90\\right) + \\lambda^{2} \\left(- 4 x^{2} + 32 x - 270\\right) + \\lambda \\left(16 x^{2} - 84 x + 405\\right) - 12 x^{2} + 56 x - 243$$"
      ],
      "text/plain": [
       " 5       4    3                2 ⎛     2             ⎞     ⎛    2             \n",
       "λ  - 15⋅λ  + λ ⋅(-4⋅x + 90) + λ ⋅⎝- 4⋅x  + 32⋅x - 270⎠ + λ⋅⎝16⋅x  - 84⋅x + 405\n",
       "\n",
       "⎞       2             \n",
       "⎠ - 12⋅x  + 56⋅x - 243"
      ]
     },
     "execution_count": 18,
     "metadata": {},
     "output_type": "execute_result"
    }
   ],
   "source": [
    "l = Sym(\"lamda\")\n",
    "# char_p = simplify(det(A - diagm(0=>l*ones(Sym, n))))   # or: A - l0*Matrix{Sym}(1I,n,n)\n",
    "char_p = as_expr(A[:charpoly](l))"
   ]
  },
  {
   "cell_type": "code",
   "execution_count": 19,
   "metadata": {},
   "outputs": [
    {
     "data": {
      "text/latex": [
       "$$- 16 x + x^{5 \\gamma} - 8 x^{\\gamma + 2} - 4 x^{2 \\gamma + 1} - 4 x^{2 \\gamma + 2} - 4 x^{3 \\gamma + 1}$$"
      ],
      "text/plain": [
       "         5⋅γ      γ + 2      2⋅γ + 1      2⋅γ + 2      3⋅γ + 1\n",
       "-16⋅x + x    - 8⋅x      - 4⋅x        - 4⋅x        - 4⋅x       "
      ]
     },
     "execution_count": 19,
     "metadata": {},
     "output_type": "execute_result"
    }
   ],
   "source": [
    "g = symbols(\"gamma\")              # do not use (.., positive=true) because of crossections calculation\n",
    "foo = simplify(char_p(l=>l0+x^g)) # или simplify(charpoly[:replace](l,l0+x^g)) или replace(subs(charpoly, l, l0+x^g))"
   ]
  },
  {
   "cell_type": "code",
   "execution_count": 20,
   "metadata": {},
   "outputs": [
    {
     "data": {
      "text/plain": [
       "(x, x^(5*gamma), x^(gamma + 2), x^(2*gamma + 1), x^(2*gamma + 2), x^(3*gamma + 1))"
      ]
     },
     "execution_count": 20,
     "metadata": {},
     "output_type": "execute_result"
    }
   ],
   "source": [
    "membs = collect(zip(args.(as_ordered_terms(foo)*pi^0.5)...))[2] # pi^0.5 - formula failed when there is no coeffs near x^_"
   ]
  },
  {
   "cell_type": "code",
   "execution_count": 21,
   "metadata": {},
   "outputs": [
    {
     "data": {
      "text/plain": [
       "(1, 5*gamma, gamma + 2, 2*gamma + 1, 2*gamma + 2, 3*gamma + 1)"
      ]
     },
     "execution_count": 21,
     "metadata": {},
     "output_type": "execute_result"
    }
   ],
   "source": [
    "pows = expand_log.(log.(x,membs),force=true)"
   ]
  },
  {
   "cell_type": "code",
   "execution_count": 29,
   "metadata": {},
   "outputs": [
    {
     "data": {
      "text/latex": [
       "$$\\frac{1}{5}$$"
      ],
      "text/plain": [
       "1/5"
      ]
     },
     "execution_count": 29,
     "metadata": {},
     "output_type": "execute_result"
    }
   ],
   "source": [
    "k = length(pows)\n",
    "gammas = []\n",
    "for i=1:k, j=1:n-1\n",
    "    ex = pows[i]-pows[j]\n",
    "    if free_symbols(ex) != []\n",
    "        solution = solve(ex)\n",
    "        if !isempty(solution) && solution[1] > 0\n",
    "            push!(gammas, solution[1])\n",
    "        end\n",
    "    end\n",
    "end\n",
    "\n",
    "g0 = minimum(gammas)"
   ]
  },
  {
   "cell_type": "code",
   "execution_count": 23,
   "metadata": {},
   "outputs": [],
   "source": [
    "# z,a,b,c,d,e = symbols(\"z,a,b,c,d,e\")\n",
    "z = Sym(\"z\")\n",
    "K = 6\n",
    "l! = l0+sum([symbols(\"c_$i\",real=true)*z^i for i=1:K])\n",
    "char_p = char_p(x=>z^(1/g0),l=>l!)[:expand]();"
   ]
  },
  {
   "cell_type": "code",
   "execution_count": 24,
   "metadata": {},
   "outputs": [
    {
     "data": {
      "text/latex": [
       "\\begin{bmatrix}c_{1}^{5} - 16\\\\5 c_{1}^{4} c_{2}\\\\5 c_{1}^{4} c_{3} + 10 c_{1}^{3} c_{2}^{2} - 4 c_{1}^{2}\\\\5 c_{1}^{4} c_{4} + 20 c_{1}^{3} c_{2} c_{3} - 4 c_{1}^{3} + 10 c_{1}^{2} c_{2}^{3} - 8 c_{1} c_{2}\\\\5 c_{1}^{4} c_{5} + 20 c_{1}^{3} c_{2} c_{4} + 10 c_{1}^{3} c_{3}^{2} + 30 c_{1}^{2} c_{2}^{2} c_{3} - 12 c_{1}^{2} c_{2} + 5 c_{1} c_{2}^{4} - 8 c_{1} c_{3} - 4 c_{2}^{2}\\\\5 c_{1}^{4} c_{6} + 20 c_{1}^{3} c_{2} c_{5} + 20 c_{1}^{3} c_{3} c_{4} + 30 c_{1}^{2} c_{2}^{2} c_{4} + 30 c_{1}^{2} c_{2} c_{3}^{2} - 12 c_{1}^{2} c_{3} + 20 c_{1} c_{2}^{3} c_{3} - 12 c_{1} c_{2}^{2} - 8 c_{1} c_{4} + c_{2}^{5} - 8 c_{2} c_{3}\\end{bmatrix}"
      ],
      "text/plain": [
       "6-element Array{Sym,1}:\n",
       "                                                                                                                                                                   c_1^5 - 16\n",
       "                                                                                                                                                                  5*c_1^4*c_2\n",
       "                                                                                                                                       5*c_1^4*c_3 + 10*c_1^3*c_2^2 - 4*c_1^2\n",
       "                                                                                                        5*c_1^4*c_4 + 20*c_1^3*c_2*c_3 - 4*c_1^3 + 10*c_1^2*c_2^3 - 8*c_1*c_2\n",
       "                                                      5*c_1^4*c_5 + 20*c_1^3*c_2*c_4 + 10*c_1^3*c_3^2 + 30*c_1^2*c_2^2*c_3 - 12*c_1^2*c_2 + 5*c_1*c_2^4 - 8*c_1*c_3 - 4*c_2^2\n",
       " 5*c_1^4*c_6 + 20*c_1^3*c_2*c_5 + 20*c_1^3*c_3*c_4 + 30*c_1^2*c_2^2*c_4 + 30*c_1^2*c_2*c_3^2 - 12*c_1^2*c_3 + 20*c_1*c_2^3*c_3 - 12*c_1*c_2^2 - 8*c_1*c_4 + c_2^5 - 8*c_2*c_3"
      ]
     },
     "execution_count": 24,
     "metadata": {},
     "output_type": "execute_result"
    }
   ],
   "source": [
    "# убрать все Sym(0) из coeffs(char_p,z) и получить первые K ненулевых коэффициента, начиная с младшей степени\n",
    "char_coeffs = filter(i->i!=Sym(0),coeffs(char_p,z))[1:K]"
   ]
  },
  {
   "cell_type": "code",
   "execution_count": 25,
   "metadata": {},
   "outputs": [
    {
     "data": {
      "text/plain": [
       "1-element Array{Dict{Sym,Sym},1}:\n",
       " Dict(c_4=>2*2^(1/5)/5,c_6=>2^(4/5)/25,c_3=>2^(2/5)/5,c_2=>0,c_5=>0,c_1=>2^(4/5))"
      ]
     },
     "execution_count": 25,
     "metadata": {},
     "output_type": "execute_result"
    }
   ],
   "source": [
    "solve(char_coeffs)"
   ]
  },
  {
   "cell_type": "code",
   "execution_count": 85,
   "metadata": {},
   "outputs": [],
   "source": [
    "X = [1e-2, 1e-4, 1e-6];"
   ]
  },
  {
   "cell_type": "code",
   "execution_count": 100,
   "metadata": {},
   "outputs": [
    {
     "data": {
      "text/plain": [
       "3-element Array{Float64,1}:\n",
       " 3.7216147644877036\n",
       " 3.277287559063205 \n",
       " 3.109929630062013 "
      ]
     },
     "execution_count": 100,
     "metadata": {},
     "output_type": "execute_result"
    }
   ],
   "source": [
    "vals = [N(l!(z=>X[i]^g0,solve(char_coeffs)[1]...)) for i=1:3]"
   ]
  },
  {
   "cell_type": "code",
   "execution_count": 101,
   "metadata": {},
   "outputs": [
    {
     "data": {
      "text/plain": [
       "3-element Array{Float64,1}:\n",
       " 3.7224021418705333\n",
       " 3.2772886971980046\n",
       " 3.1099296317929253"
      ]
     },
     "execution_count": 101,
     "metadata": {},
     "output_type": "execute_result"
    }
   ],
   "source": [
    "num_vals = real.([filter(i->isreal(i),eigvals(N(subs(A,x,X[i]))))[1] for i=1:3])"
   ]
  },
  {
   "cell_type": "code",
   "execution_count": 102,
   "metadata": {},
   "outputs": [],
   "source": [
    "Y = num_vals - vals;"
   ]
  },
  {
   "cell_type": "code",
   "execution_count": 103,
   "metadata": {},
   "outputs": [
    {
     "data": {
      "image/svg+xml": [
       "<?xml version=\"1.0\" encoding=\"utf-8\"?>\n",
       "<svg xmlns=\"http://www.w3.org/2000/svg\" xmlns:xlink=\"http://www.w3.org/1999/xlink\" width=\"600\" height=\"400\" viewBox=\"0 0 2400 1600\">\n",
       "<defs>\n",
       "  <clipPath id=\"clip3100\">\n",
       "    <rect x=\"0\" y=\"0\" width=\"2000\" height=\"2000\"/>\n",
       "  </clipPath>\n",
       "</defs>\n",
       "<defs>\n",
       "  <clipPath id=\"clip3101\">\n",
       "    <rect x=\"0\" y=\"0\" width=\"2400\" height=\"1600\"/>\n",
       "  </clipPath>\n",
       "</defs>\n",
       "<polygon clip-path=\"url(#clip3101)\" points=\"\n",
       "0,1600 2400,1600 2400,0 0,0 \n",
       "  \" fill=\"#ffffff\" fill-opacity=\"1\"/>\n",
       "<defs>\n",
       "  <clipPath id=\"clip3102\">\n",
       "    <rect x=\"480\" y=\"0\" width=\"1681\" height=\"1600\"/>\n",
       "  </clipPath>\n",
       "</defs>\n",
       "<polygon clip-path=\"url(#clip3101)\" points=\"\n",
       "149.361,1503.47 2321.26,1503.47 2321.26,47.2441 149.361,47.2441 \n",
       "  \" fill=\"#ffffff\" fill-opacity=\"1\"/>\n",
       "<defs>\n",
       "  <clipPath id=\"clip3103\">\n",
       "    <rect x=\"149\" y=\"47\" width=\"2173\" height=\"1457\"/>\n",
       "  </clipPath>\n",
       "</defs>\n",
       "<polyline clip-path=\"url(#clip3103)\" style=\"stroke:#000000; stroke-width:2; stroke-opacity:0.1; fill:none\" points=\"\n",
       "  210.829,1503.47 210.829,47.2441 \n",
       "  \"/>\n",
       "<polyline clip-path=\"url(#clip3103)\" style=\"stroke:#000000; stroke-width:2; stroke-opacity:0.1; fill:none\" points=\"\n",
       "  723.07,1503.47 723.07,47.2441 \n",
       "  \"/>\n",
       "<polyline clip-path=\"url(#clip3103)\" style=\"stroke:#000000; stroke-width:2; stroke-opacity:0.1; fill:none\" points=\"\n",
       "  1235.31,1503.47 1235.31,47.2441 \n",
       "  \"/>\n",
       "<polyline clip-path=\"url(#clip3103)\" style=\"stroke:#000000; stroke-width:2; stroke-opacity:0.1; fill:none\" points=\"\n",
       "  1747.55,1503.47 1747.55,47.2441 \n",
       "  \"/>\n",
       "<polyline clip-path=\"url(#clip3103)\" style=\"stroke:#000000; stroke-width:2; stroke-opacity:0.1; fill:none\" points=\"\n",
       "  2259.79,1503.47 2259.79,47.2441 \n",
       "  \"/>\n",
       "<polyline clip-path=\"url(#clip3103)\" style=\"stroke:#000000; stroke-width:2; stroke-opacity:0.1; fill:none\" points=\"\n",
       "  149.361,1277.31 2321.26,1277.31 \n",
       "  \"/>\n",
       "<polyline clip-path=\"url(#clip3103)\" style=\"stroke:#000000; stroke-width:2; stroke-opacity:0.1; fill:none\" points=\"\n",
       "  149.361,1034.49 2321.26,1034.49 \n",
       "  \"/>\n",
       "<polyline clip-path=\"url(#clip3103)\" style=\"stroke:#000000; stroke-width:2; stroke-opacity:0.1; fill:none\" points=\"\n",
       "  149.361,791.683 2321.26,791.683 \n",
       "  \"/>\n",
       "<polyline clip-path=\"url(#clip3103)\" style=\"stroke:#000000; stroke-width:2; stroke-opacity:0.1; fill:none\" points=\"\n",
       "  149.361,548.872 2321.26,548.872 \n",
       "  \"/>\n",
       "<polyline clip-path=\"url(#clip3103)\" style=\"stroke:#000000; stroke-width:2; stroke-opacity:0.1; fill:none\" points=\"\n",
       "  149.361,306.061 2321.26,306.061 \n",
       "  \"/>\n",
       "<polyline clip-path=\"url(#clip3103)\" style=\"stroke:#000000; stroke-width:2; stroke-opacity:0.1; fill:none\" points=\"\n",
       "  149.361,63.2502 2321.26,63.2502 \n",
       "  \"/>\n",
       "<polyline clip-path=\"url(#clip3101)\" style=\"stroke:#000000; stroke-width:4; stroke-opacity:1; fill:none\" points=\"\n",
       "  149.361,1503.47 2321.26,1503.47 \n",
       "  \"/>\n",
       "<polyline clip-path=\"url(#clip3101)\" style=\"stroke:#000000; stroke-width:4; stroke-opacity:1; fill:none\" points=\"\n",
       "  149.361,1503.47 149.361,47.2441 \n",
       "  \"/>\n",
       "<polyline clip-path=\"url(#clip3101)\" style=\"stroke:#000000; stroke-width:4; stroke-opacity:1; fill:none\" points=\"\n",
       "  210.829,1503.47 210.829,1481.63 \n",
       "  \"/>\n",
       "<polyline clip-path=\"url(#clip3101)\" style=\"stroke:#000000; stroke-width:4; stroke-opacity:1; fill:none\" points=\"\n",
       "  723.07,1503.47 723.07,1481.63 \n",
       "  \"/>\n",
       "<polyline clip-path=\"url(#clip3101)\" style=\"stroke:#000000; stroke-width:4; stroke-opacity:1; fill:none\" points=\"\n",
       "  1235.31,1503.47 1235.31,1481.63 \n",
       "  \"/>\n",
       "<polyline clip-path=\"url(#clip3101)\" style=\"stroke:#000000; stroke-width:4; stroke-opacity:1; fill:none\" points=\"\n",
       "  1747.55,1503.47 1747.55,1481.63 \n",
       "  \"/>\n",
       "<polyline clip-path=\"url(#clip3101)\" style=\"stroke:#000000; stroke-width:4; stroke-opacity:1; fill:none\" points=\"\n",
       "  2259.79,1503.47 2259.79,1481.63 \n",
       "  \"/>\n",
       "<polyline clip-path=\"url(#clip3101)\" style=\"stroke:#000000; stroke-width:4; stroke-opacity:1; fill:none\" points=\"\n",
       "  149.361,1277.31 181.939,1277.31 \n",
       "  \"/>\n",
       "<polyline clip-path=\"url(#clip3101)\" style=\"stroke:#000000; stroke-width:4; stroke-opacity:1; fill:none\" points=\"\n",
       "  149.361,1034.49 181.939,1034.49 \n",
       "  \"/>\n",
       "<polyline clip-path=\"url(#clip3101)\" style=\"stroke:#000000; stroke-width:4; stroke-opacity:1; fill:none\" points=\"\n",
       "  149.361,791.683 181.939,791.683 \n",
       "  \"/>\n",
       "<polyline clip-path=\"url(#clip3101)\" style=\"stroke:#000000; stroke-width:4; stroke-opacity:1; fill:none\" points=\"\n",
       "  149.361,548.872 181.939,548.872 \n",
       "  \"/>\n",
       "<polyline clip-path=\"url(#clip3101)\" style=\"stroke:#000000; stroke-width:4; stroke-opacity:1; fill:none\" points=\"\n",
       "  149.361,306.061 181.939,306.061 \n",
       "  \"/>\n",
       "<polyline clip-path=\"url(#clip3101)\" style=\"stroke:#000000; stroke-width:4; stroke-opacity:1; fill:none\" points=\"\n",
       "  149.361,63.2502 181.939,63.2502 \n",
       "  \"/>\n",
       "<g clip-path=\"url(#clip3101)\">\n",
       "<text style=\"fill:#000000; fill-opacity:1; font-family:Arial,Helvetica Neue,Helvetica,sans-serif; font-size:48; text-anchor:middle;\" transform=\"rotate(0, 210.829, 1557.47)\" x=\"210.829\" y=\"1557.47\">-6</text>\n",
       "</g>\n",
       "<g clip-path=\"url(#clip3101)\">\n",
       "<text style=\"fill:#000000; fill-opacity:1; font-family:Arial,Helvetica Neue,Helvetica,sans-serif; font-size:48; text-anchor:middle;\" transform=\"rotate(0, 723.07, 1557.47)\" x=\"723.07\" y=\"1557.47\">-5</text>\n",
       "</g>\n",
       "<g clip-path=\"url(#clip3101)\">\n",
       "<text style=\"fill:#000000; fill-opacity:1; font-family:Arial,Helvetica Neue,Helvetica,sans-serif; font-size:48; text-anchor:middle;\" transform=\"rotate(0, 1235.31, 1557.47)\" x=\"1235.31\" y=\"1557.47\">-4</text>\n",
       "</g>\n",
       "<g clip-path=\"url(#clip3101)\">\n",
       "<text style=\"fill:#000000; fill-opacity:1; font-family:Arial,Helvetica Neue,Helvetica,sans-serif; font-size:48; text-anchor:middle;\" transform=\"rotate(0, 1747.55, 1557.47)\" x=\"1747.55\" y=\"1557.47\">-3</text>\n",
       "</g>\n",
       "<g clip-path=\"url(#clip3101)\">\n",
       "<text style=\"fill:#000000; fill-opacity:1; font-family:Arial,Helvetica Neue,Helvetica,sans-serif; font-size:48; text-anchor:middle;\" transform=\"rotate(0, 2259.79, 1557.47)\" x=\"2259.79\" y=\"1557.47\">-2</text>\n",
       "</g>\n",
       "<g clip-path=\"url(#clip3101)\">\n",
       "<text style=\"fill:#000000; fill-opacity:1; font-family:Arial,Helvetica Neue,Helvetica,sans-serif; font-size:48; text-anchor:end;\" transform=\"rotate(0, 125.361, 1294.81)\" x=\"125.361\" y=\"1294.81\">-8</text>\n",
       "</g>\n",
       "<g clip-path=\"url(#clip3101)\">\n",
       "<text style=\"fill:#000000; fill-opacity:1; font-family:Arial,Helvetica Neue,Helvetica,sans-serif; font-size:48; text-anchor:end;\" transform=\"rotate(0, 125.361, 1051.99)\" x=\"125.361\" y=\"1051.99\">-7</text>\n",
       "</g>\n",
       "<g clip-path=\"url(#clip3101)\">\n",
       "<text style=\"fill:#000000; fill-opacity:1; font-family:Arial,Helvetica Neue,Helvetica,sans-serif; font-size:48; text-anchor:end;\" transform=\"rotate(0, 125.361, 809.183)\" x=\"125.361\" y=\"809.183\">-6</text>\n",
       "</g>\n",
       "<g clip-path=\"url(#clip3101)\">\n",
       "<text style=\"fill:#000000; fill-opacity:1; font-family:Arial,Helvetica Neue,Helvetica,sans-serif; font-size:48; text-anchor:end;\" transform=\"rotate(0, 125.361, 566.372)\" x=\"125.361\" y=\"566.372\">-5</text>\n",
       "</g>\n",
       "<g clip-path=\"url(#clip3101)\">\n",
       "<text style=\"fill:#000000; fill-opacity:1; font-family:Arial,Helvetica Neue,Helvetica,sans-serif; font-size:48; text-anchor:end;\" transform=\"rotate(0, 125.361, 323.561)\" x=\"125.361\" y=\"323.561\">-4</text>\n",
       "</g>\n",
       "<g clip-path=\"url(#clip3101)\">\n",
       "<text style=\"fill:#000000; fill-opacity:1; font-family:Arial,Helvetica Neue,Helvetica,sans-serif; font-size:48; text-anchor:end;\" transform=\"rotate(0, 125.361, 80.7502)\" x=\"125.361\" y=\"80.7502\">-3</text>\n",
       "</g>\n",
       "<circle clip-path=\"url(#clip3103)\" style=\"fill:#000000; stroke:none; fill-opacity:1\" cx=\"2259.79\" cy=\"88.4582\" r=\"14\"/>\n",
       "<circle clip-path=\"url(#clip3103)\" style=\"fill:#009af9; stroke:none; fill-opacity:1\" cx=\"2259.79\" cy=\"88.4582\" r=\"10\"/>\n",
       "<circle clip-path=\"url(#clip3103)\" style=\"fill:#000000; stroke:none; fill-opacity:1\" cx=\"1235.31\" cy=\"778.039\" r=\"14\"/>\n",
       "<circle clip-path=\"url(#clip3103)\" style=\"fill:#009af9; stroke:none; fill-opacity:1\" cx=\"1235.31\" cy=\"778.039\" r=\"10\"/>\n",
       "<circle clip-path=\"url(#clip3103)\" style=\"fill:#000000; stroke:none; fill-opacity:1\" cx=\"210.829\" cy=\"1462.26\" r=\"14\"/>\n",
       "<circle clip-path=\"url(#clip3103)\" style=\"fill:#009af9; stroke:none; fill-opacity:1\" cx=\"210.829\" cy=\"1462.26\" r=\"10\"/>\n",
       "<polyline clip-path=\"url(#clip3103)\" style=\"stroke:#e26f46; stroke-width:4; stroke-opacity:1; fill:none\" points=\"\n",
       "  2259.79,88.4582 210.829,1462.26 \n",
       "  \"/>\n",
       "</svg>\n"
      ]
     },
     "execution_count": 103,
     "metadata": {},
     "output_type": "execute_result"
    }
   ],
   "source": [
    "using Plots\n",
    "scatter(log.(10,X),log.(10,Y),legend=false,ms=3)\n",
    "plot!(log.(10,[X[1],X[3]]),log.(10,[Y[1],Y[3]]))"
   ]
  },
  {
   "cell_type": "code",
   "execution_count": null,
   "metadata": {},
   "outputs": [],
   "source": []
  }
 ],
 "metadata": {
  "kernelspec": {
   "display_name": "Julia 1.0.0",
   "language": "julia",
   "name": "julia-1.0"
  },
  "language_info": {
   "file_extension": ".jl",
   "mimetype": "application/julia",
   "name": "julia",
   "version": "1.0.1"
  }
 },
 "nbformat": 4,
 "nbformat_minor": 2
}
