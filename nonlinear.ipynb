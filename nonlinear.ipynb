{
 "cells": [
  {
   "cell_type": "markdown",
   "metadata": {},
   "source": [
    "# Символьное и численное решение нелинейного уравнения\n",
    "$$ arctg x = x (1-\\varepsilon^2) $$"
   ]
  },
  {
   "cell_type": "code",
   "execution_count": 31,
   "metadata": {},
   "outputs": [],
   "source": [
    "using SymPy\n",
    "using Roots"
   ]
  },
  {
   "cell_type": "code",
   "execution_count": 2,
   "metadata": {},
   "outputs": [
    {
     "data": {
      "text/latex": [
       "\\begin{equation*}c_{1} \\varepsilon + c_{2} \\varepsilon^{2} + c_{3} \\varepsilon^{3} + c_{4} \\varepsilon^{4} + c_{5} \\varepsilon^{5} + c_{6} \\varepsilon^{6} + c_{7} \\varepsilon^{7}\\end{equation*}"
      ],
      "text/plain": [
       "                             2                3                4              \n",
       "c₁⋅varepsilon + c₂⋅varepsilon  + c₃⋅varepsilon  + c₄⋅varepsilon  + c₅⋅varepsil\n",
       "\n",
       "  5                6                7\n",
       "on  + c₆⋅varepsilon  + c₇⋅varepsilon "
      ]
     },
     "execution_count": 2,
     "metadata": {},
     "output_type": "execute_result"
    }
   ],
   "source": [
    "epsilon = 0.1\n",
    "K = 7\n",
    "e = Sym(\"varepsilon\")\n",
    "x = sum([symbols(\"c_$i\",real=true)*e^i for i=2:K])\n",
    "x += symbols(\"c_1\",positive=true)*e"
   ]
  },
  {
   "cell_type": "code",
   "execution_count": 3,
   "metadata": {},
   "outputs": [
    {
     "data": {
      "text/latex": [
       "\\begin{equation*}y - \\frac{y^{3}}{3} + \\frac{y^{5}}{5} + O\\left(y^{6}\\right)\\end{equation*}"
      ],
      "text/plain": [
       "     3    5        \n",
       "    y    y     ⎛ 6⎞\n",
       "y - ── + ── + O⎝y ⎠\n",
       "    3    5         "
      ]
     },
     "execution_count": 3,
     "metadata": {},
     "output_type": "execute_result"
    }
   ],
   "source": [
    "y = Sym(\"y\")\n",
    "taylor_s = series(atan(y), y, 0, 6)"
   ]
  },
  {
   "cell_type": "code",
   "execution_count": 4,
   "metadata": {},
   "outputs": [],
   "source": [
    "eq = sum(as_ordered_terms(taylor_s)[1:end-1])(y=>x) - x*(1-e^2);\n",
    "#eq[:expand]()[:collect](e)"
   ]
  },
  {
   "cell_type": "code",
   "execution_count": 5,
   "metadata": {},
   "outputs": [
    {
     "data": {
      "text/latex": [
       "\\begin{bmatrix}- \\frac{c_{1}^{3}}{3} + c_{1}\\\\- c_{1}^{2} c_{2} + c_{2}\\\\\\frac{c_{1}^{5}}{5} - c_{1}^{2} c_{3} - c_{1} c_{2}^{2} + c_{3}\\\\c_{1}^{4} c_{2} - c_{1}^{2} c_{4} - 2 c_{1} c_{2} c_{3} - \\frac{c_{2}^{3}}{3} + c_{4}\\\\c_{1}^{4} c_{3} + 2 c_{1}^{3} c_{2}^{2} - c_{1}^{2} c_{5} - 2 c_{1} c_{2} c_{4} - c_{1} c_{3}^{2} - c_{2}^{2} c_{3} + c_{5}\\\\c_{1}^{4} c_{4} + 4 c_{1}^{3} c_{2} c_{3} + 2 c_{1}^{2} c_{2}^{3} - c_{1}^{2} c_{6} - 2 c_{1} c_{2} c_{5} - 2 c_{1} c_{3} c_{4} - c_{2}^{2} c_{4} - c_{2} c_{3}^{2} + c_{6}\\\\c_{1}^{4} c_{5} + 4 c_{1}^{3} c_{2} c_{4} + 2 c_{1}^{3} c_{3}^{2} + 6 c_{1}^{2} c_{2}^{2} c_{3} - c_{1}^{2} c_{7} + c_{1} c_{2}^{4} - 2 c_{1} c_{2} c_{6} - 2 c_{1} c_{3} c_{5} - c_{1} c_{4}^{2} - c_{2}^{2} c_{5} - 2 c_{2} c_{3} c_{4} - \\frac{c_{3}^{3}}{3} + c_{7}\\end{bmatrix}"
      ],
      "text/plain": [
       "7-element Array{Sym,1}:\n",
       "                                                                                                                                                                  -c_1^3/3 + c_1\n",
       "                                                                                                                                                                -c_1^2*c_2 + c_2\n",
       "                                                                                                                                           c_1^5/5 - c_1^2*c_3 - c_1*c_2^2 + c_3\n",
       "                                                                                                                           c_1^4*c_2 - c_1^2*c_4 - 2*c_1*c_2*c_3 - c_2^3/3 + c_4\n",
       "                                                                                             c_1^4*c_3 + 2*c_1^3*c_2^2 - c_1^2*c_5 - 2*c_1*c_2*c_4 - c_1*c_3^2 - c_2^2*c_3 + c_5\n",
       "                                                           c_1^4*c_4 + 4*c_1^3*c_2*c_3 + 2*c_1^2*c_2^3 - c_1^2*c_6 - 2*c_1*c_2*c_5 - 2*c_1*c_3*c_4 - c_2^2*c_4 - c_2*c_3^2 + c_6\n",
       " c_1^4*c_5 + 4*c_1^3*c_2*c_4 + 2*c_1^3*c_3^2 + 6*c_1^2*c_2^2*c_3 - c_1^2*c_7 + c_1*c_2^4 - 2*c_1*c_2*c_6 - 2*c_1*c_3*c_5 - c_1*c_4^2 - c_2^2*c_5 - 2*c_2*c_3*c_4 - c_3^3/3 + c_7"
      ]
     },
     "execution_count": 5,
     "metadata": {},
     "output_type": "execute_result"
    }
   ],
   "source": [
    "x_coeffs = filter(i->i!=Sym(0),coeffs(eq[:expand](),e))[1:K]"
   ]
  },
  {
   "cell_type": "code",
   "execution_count": 6,
   "metadata": {},
   "outputs": [
    {
     "data": {
      "text/plain": [
       "1-element Array{Dict{Sym,Sym},1}:\n",
       " Dict(c_2=>0,c_5=>567*sqrt(3)/200,c_4=>0,c_6=>0,c_7=>24057*sqrt(3)/2000,c_3=>9*sqrt(3)/10,c_1=>sqrt(3))"
      ]
     },
     "execution_count": 6,
     "metadata": {},
     "output_type": "execute_result"
    }
   ],
   "source": [
    "solve(x_coeffs)"
   ]
  },
  {
   "cell_type": "code",
   "execution_count": 7,
   "metadata": {},
   "outputs": [
    {
     "data": {
      "text/latex": [
       "\\begin{equation*}\\frac{24057 \\sqrt{3} \\varepsilon^{7}}{2000} + \\frac{567 \\sqrt{3} \\varepsilon^{5}}{200} + \\frac{9 \\sqrt{3} \\varepsilon^{3}}{10} + \\sqrt{3} \\varepsilon\\end{equation*}"
      ],
      "text/plain": [
       "                   7                    5                  3                \n",
       "24057⋅√3⋅varepsilon    567⋅√3⋅varepsilon    9⋅√3⋅varepsilon                 \n",
       "──────────────────── + ────────────────── + ──────────────── + √3⋅varepsilon\n",
       "        2000                  200                  10                       "
      ]
     },
     "execution_count": 7,
     "metadata": {},
     "output_type": "execute_result"
    }
   ],
   "source": [
    "root = x(solve(x_coeffs)[1])"
   ]
  },
  {
   "cell_type": "code",
   "execution_count": 8,
   "metadata": {},
   "outputs": [
    {
     "data": {
      "text/plain": [
       "0.1748151135214082"
      ]
     },
     "execution_count": 8,
     "metadata": {},
     "output_type": "execute_result"
    }
   ],
   "source": [
    "N(root(e=>epsilon))"
   ]
  },
  {
   "cell_type": "markdown",
   "metadata": {},
   "source": [
    "### численное решение:"
   ]
  },
  {
   "cell_type": "code",
   "execution_count": 9,
   "metadata": {
    "scrolled": true
   },
   "outputs": [
    {
     "name": "stdout",
     "output_type": "stream",
     "text": [
      "Results of univariate zero finding:\n",
      "\n",
      "* Converged to: 0.1747797849831364\n",
      "* Algorithm: Roots.Secant(), with possible bracketing with Roots.AlefeldPotraShi()\n",
      "* iterations: 2\n",
      "* function evaluations: 10\n",
      "* Note: Exact zero found. Bracketing used over (0.16320508075688772, 0.1761074991086977), those steps not shown. \n",
      "\n",
      "Trace:\n",
      "x_0 =  0.1632050807568877,\t fx_0 =  0.0002057390223837\n",
      "\n"
     ]
    },
    {
     "data": {
      "text/plain": [
       "0.1747797849831364"
      ]
     },
     "execution_count": 9,
     "metadata": {},
     "output_type": "execute_result"
    }
   ],
   "source": [
    "using Roots\n",
    "find_zero(i->atan(i)-i*(1-epsilon^2), 3^0.5*epsilon-0.01, verbose=true)"
   ]
  },
  {
   "cell_type": "code",
   "execution_count": 10,
   "metadata": {},
   "outputs": [
    {
     "data": {
      "text/plain": [
       "3-element Array{Float64,1}:\n",
       " 0.01732206741266033   \n",
       " 0.00017320508231573353\n",
       " 1.732050807570436e-6  "
      ]
     },
     "execution_count": 10,
     "metadata": {},
     "output_type": "execute_result"
    }
   ],
   "source": [
    "X = [1e-2, 1e-4, 1e-6]\n",
    "vals = [N(root(e=>X[i])) for i=1:3]"
   ]
  },
  {
   "cell_type": "code",
   "execution_count": 11,
   "metadata": {},
   "outputs": [
    {
     "data": {
      "text/plain": [
       "3-element Array{Float64,1}:\n",
       " 0.017322067078503655  \n",
       " 0.00017323687049688639\n",
       " 1.378339838995256e-5  "
      ]
     },
     "execution_count": 11,
     "metadata": {},
     "output_type": "execute_result"
    }
   ],
   "source": [
    "num_vals = [find_zero(i->atan(i)-i*(1-X[k]^2), 3^0.5*epsilon-0.01) for k=1:3]"
   ]
  },
  {
   "cell_type": "code",
   "execution_count": 30,
   "metadata": {},
   "outputs": [
    {
     "data": {
      "image/svg+xml": [
       "<?xml version=\"1.0\" encoding=\"utf-8\"?>\n",
       "<svg xmlns=\"http://www.w3.org/2000/svg\" xmlns:xlink=\"http://www.w3.org/1999/xlink\" width=\"600\" height=\"400\" viewBox=\"0 0 2400 1600\">\n",
       "<defs>\n",
       "  <clipPath id=\"clip2100\">\n",
       "    <rect x=\"0\" y=\"0\" width=\"2000\" height=\"2000\"/>\n",
       "  </clipPath>\n",
       "</defs>\n",
       "<defs>\n",
       "  <clipPath id=\"clip2101\">\n",
       "    <rect x=\"0\" y=\"0\" width=\"2400\" height=\"1600\"/>\n",
       "  </clipPath>\n",
       "</defs>\n",
       "<polygon clip-path=\"url(#clip2101)\" points=\"\n",
       "0,1600 2400,1600 2400,0 0,0 \n",
       "  \" fill=\"#ffffff\" fill-opacity=\"1\"/>\n",
       "<defs>\n",
       "  <clipPath id=\"clip2102\">\n",
       "    <rect x=\"480\" y=\"0\" width=\"1681\" height=\"1600\"/>\n",
       "  </clipPath>\n",
       "</defs>\n",
       "<polygon clip-path=\"url(#clip2101)\" points=\"\n",
       "149.361,1503.47 2321.26,1503.47 2321.26,47.2441 149.361,47.2441 \n",
       "  \" fill=\"#ffffff\" fill-opacity=\"1\"/>\n",
       "<defs>\n",
       "  <clipPath id=\"clip2103\">\n",
       "    <rect x=\"149\" y=\"47\" width=\"2173\" height=\"1457\"/>\n",
       "  </clipPath>\n",
       "</defs>\n",
       "<polyline clip-path=\"url(#clip2103)\" style=\"stroke:#000000; stroke-width:2; stroke-opacity:0.1; fill:none\" points=\"\n",
       "  210.829,1503.47 210.829,47.2441 \n",
       "  \"/>\n",
       "<polyline clip-path=\"url(#clip2103)\" style=\"stroke:#000000; stroke-width:2; stroke-opacity:0.1; fill:none\" points=\"\n",
       "  723.07,1503.47 723.07,47.2441 \n",
       "  \"/>\n",
       "<polyline clip-path=\"url(#clip2103)\" style=\"stroke:#000000; stroke-width:2; stroke-opacity:0.1; fill:none\" points=\"\n",
       "  1235.31,1503.47 1235.31,47.2441 \n",
       "  \"/>\n",
       "<polyline clip-path=\"url(#clip2103)\" style=\"stroke:#000000; stroke-width:2; stroke-opacity:0.1; fill:none\" points=\"\n",
       "  1747.55,1503.47 1747.55,47.2441 \n",
       "  \"/>\n",
       "<polyline clip-path=\"url(#clip2103)\" style=\"stroke:#000000; stroke-width:2; stroke-opacity:0.1; fill:none\" points=\"\n",
       "  2259.79,1503.47 2259.79,47.2441 \n",
       "  \"/>\n",
       "<polyline clip-path=\"url(#clip2103)\" style=\"stroke:#000000; stroke-width:2; stroke-opacity:0.1; fill:none\" points=\"\n",
       "  149.361,1318.75 2321.26,1318.75 \n",
       "  \"/>\n",
       "<polyline clip-path=\"url(#clip2103)\" style=\"stroke:#000000; stroke-width:2; stroke-opacity:0.1; fill:none\" points=\"\n",
       "  149.361,1017.28 2321.26,1017.28 \n",
       "  \"/>\n",
       "<polyline clip-path=\"url(#clip2103)\" style=\"stroke:#000000; stroke-width:2; stroke-opacity:0.1; fill:none\" points=\"\n",
       "  149.361,715.818 2321.26,715.818 \n",
       "  \"/>\n",
       "<polyline clip-path=\"url(#clip2103)\" style=\"stroke:#000000; stroke-width:2; stroke-opacity:0.1; fill:none\" points=\"\n",
       "  149.361,414.353 2321.26,414.353 \n",
       "  \"/>\n",
       "<polyline clip-path=\"url(#clip2103)\" style=\"stroke:#000000; stroke-width:2; stroke-opacity:0.1; fill:none\" points=\"\n",
       "  149.361,112.888 2321.26,112.888 \n",
       "  \"/>\n",
       "<polyline clip-path=\"url(#clip2101)\" style=\"stroke:#000000; stroke-width:4; stroke-opacity:1; fill:none\" points=\"\n",
       "  149.361,1503.47 2321.26,1503.47 \n",
       "  \"/>\n",
       "<polyline clip-path=\"url(#clip2101)\" style=\"stroke:#000000; stroke-width:4; stroke-opacity:1; fill:none\" points=\"\n",
       "  149.361,1503.47 149.361,47.2441 \n",
       "  \"/>\n",
       "<polyline clip-path=\"url(#clip2101)\" style=\"stroke:#000000; stroke-width:4; stroke-opacity:1; fill:none\" points=\"\n",
       "  210.829,1503.47 210.829,1481.63 \n",
       "  \"/>\n",
       "<polyline clip-path=\"url(#clip2101)\" style=\"stroke:#000000; stroke-width:4; stroke-opacity:1; fill:none\" points=\"\n",
       "  723.07,1503.47 723.07,1481.63 \n",
       "  \"/>\n",
       "<polyline clip-path=\"url(#clip2101)\" style=\"stroke:#000000; stroke-width:4; stroke-opacity:1; fill:none\" points=\"\n",
       "  1235.31,1503.47 1235.31,1481.63 \n",
       "  \"/>\n",
       "<polyline clip-path=\"url(#clip2101)\" style=\"stroke:#000000; stroke-width:4; stroke-opacity:1; fill:none\" points=\"\n",
       "  1747.55,1503.47 1747.55,1481.63 \n",
       "  \"/>\n",
       "<polyline clip-path=\"url(#clip2101)\" style=\"stroke:#000000; stroke-width:4; stroke-opacity:1; fill:none\" points=\"\n",
       "  2259.79,1503.47 2259.79,1481.63 \n",
       "  \"/>\n",
       "<polyline clip-path=\"url(#clip2101)\" style=\"stroke:#000000; stroke-width:4; stroke-opacity:1; fill:none\" points=\"\n",
       "  149.361,1318.75 181.939,1318.75 \n",
       "  \"/>\n",
       "<polyline clip-path=\"url(#clip2101)\" style=\"stroke:#000000; stroke-width:4; stroke-opacity:1; fill:none\" points=\"\n",
       "  149.361,1017.28 181.939,1017.28 \n",
       "  \"/>\n",
       "<polyline clip-path=\"url(#clip2101)\" style=\"stroke:#000000; stroke-width:4; stroke-opacity:1; fill:none\" points=\"\n",
       "  149.361,715.818 181.939,715.818 \n",
       "  \"/>\n",
       "<polyline clip-path=\"url(#clip2101)\" style=\"stroke:#000000; stroke-width:4; stroke-opacity:1; fill:none\" points=\"\n",
       "  149.361,414.353 181.939,414.353 \n",
       "  \"/>\n",
       "<polyline clip-path=\"url(#clip2101)\" style=\"stroke:#000000; stroke-width:4; stroke-opacity:1; fill:none\" points=\"\n",
       "  149.361,112.888 181.939,112.888 \n",
       "  \"/>\n",
       "<g clip-path=\"url(#clip2101)\">\n",
       "<text style=\"fill:#000000; fill-opacity:1; font-family:Arial,Helvetica Neue,Helvetica,sans-serif; font-size:48; text-anchor:middle;\" transform=\"rotate(0, 210.829, 1557.47)\" x=\"210.829\" y=\"1557.47\">-6</text>\n",
       "</g>\n",
       "<g clip-path=\"url(#clip2101)\">\n",
       "<text style=\"fill:#000000; fill-opacity:1; font-family:Arial,Helvetica Neue,Helvetica,sans-serif; font-size:48; text-anchor:middle;\" transform=\"rotate(0, 723.07, 1557.47)\" x=\"723.07\" y=\"1557.47\">-5</text>\n",
       "</g>\n",
       "<g clip-path=\"url(#clip2101)\">\n",
       "<text style=\"fill:#000000; fill-opacity:1; font-family:Arial,Helvetica Neue,Helvetica,sans-serif; font-size:48; text-anchor:middle;\" transform=\"rotate(0, 1235.31, 1557.47)\" x=\"1235.31\" y=\"1557.47\">-4</text>\n",
       "</g>\n",
       "<g clip-path=\"url(#clip2101)\">\n",
       "<text style=\"fill:#000000; fill-opacity:1; font-family:Arial,Helvetica Neue,Helvetica,sans-serif; font-size:48; text-anchor:middle;\" transform=\"rotate(0, 1747.55, 1557.47)\" x=\"1747.55\" y=\"1557.47\">-3</text>\n",
       "</g>\n",
       "<g clip-path=\"url(#clip2101)\">\n",
       "<text style=\"fill:#000000; fill-opacity:1; font-family:Arial,Helvetica Neue,Helvetica,sans-serif; font-size:48; text-anchor:middle;\" transform=\"rotate(0, 2259.79, 1557.47)\" x=\"2259.79\" y=\"1557.47\">-2</text>\n",
       "</g>\n",
       "<g clip-path=\"url(#clip2101)\">\n",
       "<text style=\"fill:#000000; fill-opacity:1; font-family:Arial,Helvetica Neue,Helvetica,sans-serif; font-size:48; text-anchor:end;\" transform=\"rotate(0, 125.361, 1336.25)\" x=\"125.361\" y=\"1336.25\">-9</text>\n",
       "</g>\n",
       "<g clip-path=\"url(#clip2101)\">\n",
       "<text style=\"fill:#000000; fill-opacity:1; font-family:Arial,Helvetica Neue,Helvetica,sans-serif; font-size:48; text-anchor:end;\" transform=\"rotate(0, 125.361, 1034.78)\" x=\"125.361\" y=\"1034.78\">-8</text>\n",
       "</g>\n",
       "<g clip-path=\"url(#clip2101)\">\n",
       "<text style=\"fill:#000000; fill-opacity:1; font-family:Arial,Helvetica Neue,Helvetica,sans-serif; font-size:48; text-anchor:end;\" transform=\"rotate(0, 125.361, 733.318)\" x=\"125.361\" y=\"733.318\">-7</text>\n",
       "</g>\n",
       "<g clip-path=\"url(#clip2101)\">\n",
       "<text style=\"fill:#000000; fill-opacity:1; font-family:Arial,Helvetica Neue,Helvetica,sans-serif; font-size:48; text-anchor:end;\" transform=\"rotate(0, 125.361, 431.853)\" x=\"125.361\" y=\"431.853\">-6</text>\n",
       "</g>\n",
       "<g clip-path=\"url(#clip2101)\">\n",
       "<text style=\"fill:#000000; fill-opacity:1; font-family:Arial,Helvetica Neue,Helvetica,sans-serif; font-size:48; text-anchor:end;\" transform=\"rotate(0, 125.361, 130.388)\" x=\"125.361\" y=\"130.388\">-5</text>\n",
       "</g>\n",
       "<circle clip-path=\"url(#clip2103)\" style=\"fill:#000000; stroke:none; fill-opacity:1\" cx=\"2259.79\" cy=\"1462.26\" r=\"14\"/>\n",
       "<circle clip-path=\"url(#clip2103)\" style=\"fill:#009af9; stroke:none; fill-opacity:1\" cx=\"2259.79\" cy=\"1462.26\" r=\"10\"/>\n",
       "<circle clip-path=\"url(#clip2103)\" style=\"fill:#000000; stroke:none; fill-opacity:1\" cx=\"1235.31\" cy=\"865.867\" r=\"14\"/>\n",
       "<circle clip-path=\"url(#clip2103)\" style=\"fill:#009af9; stroke:none; fill-opacity:1\" cx=\"1235.31\" cy=\"865.867\" r=\"10\"/>\n",
       "<circle clip-path=\"url(#clip2103)\" style=\"fill:#000000; stroke:none; fill-opacity:1\" cx=\"210.829\" cy=\"88.4582\" r=\"14\"/>\n",
       "<circle clip-path=\"url(#clip2103)\" style=\"fill:#009af9; stroke:none; fill-opacity:1\" cx=\"210.829\" cy=\"88.4582\" r=\"10\"/>\n",
       "<polyline clip-path=\"url(#clip2103)\" style=\"stroke:#e26f46; stroke-width:4; stroke-opacity:1; fill:none\" points=\"\n",
       "  2259.79,1462.26 210.829,88.4582 \n",
       "  \"/>\n",
       "</svg>\n"
      ]
     },
     "execution_count": 30,
     "metadata": {},
     "output_type": "execute_result"
    }
   ],
   "source": [
    "using Plots\n",
    "Y = abs.(num_vals - vals)\n",
    "scatter(log.(10,X),log.(10,Y),legend=false,ms=3)\n",
    "plot!(log.(10,[X[1],X[3]]),log.(10,[Y[1],Y[3]]))"
   ]
  },
  {
   "cell_type": "markdown",
   "metadata": {},
   "source": [
    "## Метод гомотопии\n",
    "$$ arctg x = x (1-\\varepsilon_0^2), $$\n",
    "$$ \\varepsilon(x) = \\sqrt{\\dfrac{x-arctg x}{x}}. $$\n",
    "Предполагаем существование обратной функции, ищем $x$ как фукнцию $\\varepsilon$: $x=x(\\varepsilon)$. Дифференцируем исходное уравнение по $\\varepsilon$:\n",
    "$ \\dfrac{x'}{1+x^2} = x' (1-\\varepsilon^2) - 2\\varepsilon x, \\\\ $\n",
    "\\begin{cases}\n",
    "   \\dfrac{dx}{d\\varepsilon} = \\dfrac{2\\varepsilon x}{(1-\\varepsilon^2)-\\dfrac{1}{1+x^2}}, \\\\\n",
    "   \\varepsilon \\in [\\varepsilon(x_0),\\varepsilon_0],\n",
    "\\end{cases}\n",
    "\n",
    "или по $\\alpha=\\varepsilon^2$, предполагая $x=x(\\alpha)$:\n",
    "\\begin{cases}\n",
    "   \\dfrac{dx}{d\\alpha} = \\dfrac{x}{(1-\\alpha)-\\dfrac{1}{1+x^2}}, \\\\\n",
    "   \\alpha \\in [\\varepsilon^2(x_0),\\varepsilon_0^2].\n",
    "\\end{cases}\n",
    "\n",
    "   \n",
    "Находим $x(\\varepsilon)$ (или $x(\\alpha)$) сеточным методом и берем значение в точке\n",
    "$\\varepsilon_0$ (или $\\alpha_0 = \\varepsilon_0^2$)."
   ]
  },
  {
   "cell_type": "code",
   "execution_count": 22,
   "metadata": {},
   "outputs": [
    {
     "data": {
      "text/plain": [
       "0.17477978498313704"
      ]
     },
     "execution_count": 22,
     "metadata": {},
     "output_type": "execute_result"
    }
   ],
   "source": [
    "using DifferentialEquations\n",
    "\n",
    "epsilon = 0.1\n",
    "e0(x) = sqrt(1-atan(x)/x)\n",
    "f(x,p,a) = x/(1-a-1/(1+x^2))\n",
    "x0 = 3^0.5*epsilon - epsilon/100\n",
    "\n",
    "function homotopy(f, u0, t_begin, t_end)\n",
    "    a_span = (t_begin, t_end)\n",
    "    prob = ODEProblem(f, u0, a_span)\n",
    "    sol = DifferentialEquations.solve(prob,RK4(),reltol=1e-12,abstol=1e-12)\n",
    "    return sol.u[end]\n",
    "end\n",
    "\n",
    "h_val = homotopy(f, x0, e0(x0)^2, epsilon^2)"
   ]
  },
  {
   "cell_type": "code",
   "execution_count": 23,
   "metadata": {},
   "outputs": [
    {
     "data": {
      "text/plain": [
       "0.10000000000000005"
      ]
     },
     "execution_count": 23,
     "metadata": {},
     "output_type": "execute_result"
    }
   ],
   "source": [
    "e0(h_val)"
   ]
  },
  {
   "cell_type": "code",
   "execution_count": 27,
   "metadata": {},
   "outputs": [
    {
     "data": {
      "text/plain": [
       "3-element Array{Any,1}:\n",
       " 0.17477978498313704  \n",
       " 0.01732206707842459  \n",
       " 0.0017320523663874748"
      ]
     },
     "execution_count": 27,
     "metadata": {},
     "output_type": "execute_result"
    }
   ],
   "source": [
    "X2 = [1e-1, 1e-2, 1e-3]\n",
    "vals2 = []\n",
    "for epsilon in X2\n",
    "    x0 = 3^0.5*epsilon - epsilon/100\n",
    "    push!( vals2, homotopy(f, x0, e0(x0)^2, epsilon^2))\n",
    "end\n",
    "vals2"
   ]
  },
  {
   "cell_type": "code",
   "execution_count": 28,
   "metadata": {},
   "outputs": [
    {
     "data": {
      "text/plain": [
       "3-element Array{Float64,1}:\n",
       " 0.1747797849831364  \n",
       " 0.017322067078503655\n",
       " 0.001732052366512771"
      ]
     },
     "execution_count": 28,
     "metadata": {},
     "output_type": "execute_result"
    }
   ],
   "source": [
    "num_vals2 = [find_zero(i->atan(i)-i*(1-X2[k]^2), 3^0.5*epsilon-0.01) for k=1:3]"
   ]
  },
  {
   "cell_type": "code",
   "execution_count": 29,
   "metadata": {},
   "outputs": [
    {
     "data": {
      "image/svg+xml": [
       "<?xml version=\"1.0\" encoding=\"utf-8\"?>\n",
       "<svg xmlns=\"http://www.w3.org/2000/svg\" xmlns:xlink=\"http://www.w3.org/1999/xlink\" width=\"600\" height=\"400\" viewBox=\"0 0 2400 1600\">\n",
       "<defs>\n",
       "  <clipPath id=\"clip1900\">\n",
       "    <rect x=\"0\" y=\"0\" width=\"2000\" height=\"2000\"/>\n",
       "  </clipPath>\n",
       "</defs>\n",
       "<defs>\n",
       "  <clipPath id=\"clip1901\">\n",
       "    <rect x=\"0\" y=\"0\" width=\"2400\" height=\"1600\"/>\n",
       "  </clipPath>\n",
       "</defs>\n",
       "<polygon clip-path=\"url(#clip1901)\" points=\"\n",
       "0,1600 2400,1600 2400,0 0,0 \n",
       "  \" fill=\"#ffffff\" fill-opacity=\"1\"/>\n",
       "<defs>\n",
       "  <clipPath id=\"clip1902\">\n",
       "    <rect x=\"480\" y=\"0\" width=\"1681\" height=\"1600\"/>\n",
       "  </clipPath>\n",
       "</defs>\n",
       "<polygon clip-path=\"url(#clip1901)\" points=\"\n",
       "216.266,1503.47 2321.26,1503.47 2321.26,47.2441 216.266,47.2441 \n",
       "  \" fill=\"#ffffff\" fill-opacity=\"1\"/>\n",
       "<defs>\n",
       "  <clipPath id=\"clip1903\">\n",
       "    <rect x=\"216\" y=\"47\" width=\"2106\" height=\"1457\"/>\n",
       "  </clipPath>\n",
       "</defs>\n",
       "<polyline clip-path=\"url(#clip1903)\" style=\"stroke:#000000; stroke-width:2; stroke-opacity:0.1; fill:none\" points=\"\n",
       "  275.842,1503.47 275.842,47.2441 \n",
       "  \"/>\n",
       "<polyline clip-path=\"url(#clip1903)\" style=\"stroke:#000000; stroke-width:2; stroke-opacity:0.1; fill:none\" points=\"\n",
       "  772.302,1503.47 772.302,47.2441 \n",
       "  \"/>\n",
       "<polyline clip-path=\"url(#clip1903)\" style=\"stroke:#000000; stroke-width:2; stroke-opacity:0.1; fill:none\" points=\"\n",
       "  1268.76,1503.47 1268.76,47.2441 \n",
       "  \"/>\n",
       "<polyline clip-path=\"url(#clip1903)\" style=\"stroke:#000000; stroke-width:2; stroke-opacity:0.1; fill:none\" points=\"\n",
       "  1765.22,1503.47 1765.22,47.2441 \n",
       "  \"/>\n",
       "<polyline clip-path=\"url(#clip1903)\" style=\"stroke:#000000; stroke-width:2; stroke-opacity:0.1; fill:none\" points=\"\n",
       "  2261.68,1503.47 2261.68,47.2441 \n",
       "  \"/>\n",
       "<polyline clip-path=\"url(#clip1903)\" style=\"stroke:#000000; stroke-width:2; stroke-opacity:0.1; fill:none\" points=\"\n",
       "  216.266,1345.47 2321.26,1345.47 \n",
       "  \"/>\n",
       "<polyline clip-path=\"url(#clip1903)\" style=\"stroke:#000000; stroke-width:2; stroke-opacity:0.1; fill:none\" points=\"\n",
       "  216.266,1045.89 2321.26,1045.89 \n",
       "  \"/>\n",
       "<polyline clip-path=\"url(#clip1903)\" style=\"stroke:#000000; stroke-width:2; stroke-opacity:0.1; fill:none\" points=\"\n",
       "  216.266,746.305 2321.26,746.305 \n",
       "  \"/>\n",
       "<polyline clip-path=\"url(#clip1903)\" style=\"stroke:#000000; stroke-width:2; stroke-opacity:0.1; fill:none\" points=\"\n",
       "  216.266,446.722 2321.26,446.722 \n",
       "  \"/>\n",
       "<polyline clip-path=\"url(#clip1903)\" style=\"stroke:#000000; stroke-width:2; stroke-opacity:0.1; fill:none\" points=\"\n",
       "  216.266,147.139 2321.26,147.139 \n",
       "  \"/>\n",
       "<polyline clip-path=\"url(#clip1901)\" style=\"stroke:#000000; stroke-width:4; stroke-opacity:1; fill:none\" points=\"\n",
       "  216.266,1503.47 2321.26,1503.47 \n",
       "  \"/>\n",
       "<polyline clip-path=\"url(#clip1901)\" style=\"stroke:#000000; stroke-width:4; stroke-opacity:1; fill:none\" points=\"\n",
       "  216.266,1503.47 216.266,47.2441 \n",
       "  \"/>\n",
       "<polyline clip-path=\"url(#clip1901)\" style=\"stroke:#000000; stroke-width:4; stroke-opacity:1; fill:none\" points=\"\n",
       "  275.842,1503.47 275.842,1481.63 \n",
       "  \"/>\n",
       "<polyline clip-path=\"url(#clip1901)\" style=\"stroke:#000000; stroke-width:4; stroke-opacity:1; fill:none\" points=\"\n",
       "  772.302,1503.47 772.302,1481.63 \n",
       "  \"/>\n",
       "<polyline clip-path=\"url(#clip1901)\" style=\"stroke:#000000; stroke-width:4; stroke-opacity:1; fill:none\" points=\"\n",
       "  1268.76,1503.47 1268.76,1481.63 \n",
       "  \"/>\n",
       "<polyline clip-path=\"url(#clip1901)\" style=\"stroke:#000000; stroke-width:4; stroke-opacity:1; fill:none\" points=\"\n",
       "  1765.22,1503.47 1765.22,1481.63 \n",
       "  \"/>\n",
       "<polyline clip-path=\"url(#clip1901)\" style=\"stroke:#000000; stroke-width:4; stroke-opacity:1; fill:none\" points=\"\n",
       "  2261.68,1503.47 2261.68,1481.63 \n",
       "  \"/>\n",
       "<polyline clip-path=\"url(#clip1901)\" style=\"stroke:#000000; stroke-width:4; stroke-opacity:1; fill:none\" points=\"\n",
       "  216.266,1345.47 247.841,1345.47 \n",
       "  \"/>\n",
       "<polyline clip-path=\"url(#clip1901)\" style=\"stroke:#000000; stroke-width:4; stroke-opacity:1; fill:none\" points=\"\n",
       "  216.266,1045.89 247.841,1045.89 \n",
       "  \"/>\n",
       "<polyline clip-path=\"url(#clip1901)\" style=\"stroke:#000000; stroke-width:4; stroke-opacity:1; fill:none\" points=\"\n",
       "  216.266,746.305 247.841,746.305 \n",
       "  \"/>\n",
       "<polyline clip-path=\"url(#clip1901)\" style=\"stroke:#000000; stroke-width:4; stroke-opacity:1; fill:none\" points=\"\n",
       "  216.266,446.722 247.841,446.722 \n",
       "  \"/>\n",
       "<polyline clip-path=\"url(#clip1901)\" style=\"stroke:#000000; stroke-width:4; stroke-opacity:1; fill:none\" points=\"\n",
       "  216.266,147.139 247.841,147.139 \n",
       "  \"/>\n",
       "<g clip-path=\"url(#clip1901)\">\n",
       "<text style=\"fill:#000000; fill-opacity:1; font-family:Arial,Helvetica Neue,Helvetica,sans-serif; font-size:48; text-anchor:middle;\" transform=\"rotate(0, 275.842, 1557.47)\" x=\"275.842\" y=\"1557.47\">-3.0</text>\n",
       "</g>\n",
       "<g clip-path=\"url(#clip1901)\">\n",
       "<text style=\"fill:#000000; fill-opacity:1; font-family:Arial,Helvetica Neue,Helvetica,sans-serif; font-size:48; text-anchor:middle;\" transform=\"rotate(0, 772.302, 1557.47)\" x=\"772.302\" y=\"1557.47\">-2.5</text>\n",
       "</g>\n",
       "<g clip-path=\"url(#clip1901)\">\n",
       "<text style=\"fill:#000000; fill-opacity:1; font-family:Arial,Helvetica Neue,Helvetica,sans-serif; font-size:48; text-anchor:middle;\" transform=\"rotate(0, 1268.76, 1557.47)\" x=\"1268.76\" y=\"1557.47\">-2.0</text>\n",
       "</g>\n",
       "<g clip-path=\"url(#clip1901)\">\n",
       "<text style=\"fill:#000000; fill-opacity:1; font-family:Arial,Helvetica Neue,Helvetica,sans-serif; font-size:48; text-anchor:middle;\" transform=\"rotate(0, 1765.22, 1557.47)\" x=\"1765.22\" y=\"1557.47\">-1.5</text>\n",
       "</g>\n",
       "<g clip-path=\"url(#clip1901)\">\n",
       "<text style=\"fill:#000000; fill-opacity:1; font-family:Arial,Helvetica Neue,Helvetica,sans-serif; font-size:48; text-anchor:middle;\" transform=\"rotate(0, 2261.68, 1557.47)\" x=\"2261.68\" y=\"1557.47\">-1.0</text>\n",
       "</g>\n",
       "<g clip-path=\"url(#clip1901)\">\n",
       "<text style=\"fill:#000000; fill-opacity:1; font-family:Arial,Helvetica Neue,Helvetica,sans-serif; font-size:48; text-anchor:end;\" transform=\"rotate(0, 192.266, 1362.97)\" x=\"192.266\" y=\"1362.97\">-15.0</text>\n",
       "</g>\n",
       "<g clip-path=\"url(#clip1901)\">\n",
       "<text style=\"fill:#000000; fill-opacity:1; font-family:Arial,Helvetica Neue,Helvetica,sans-serif; font-size:48; text-anchor:end;\" transform=\"rotate(0, 192.266, 1063.39)\" x=\"192.266\" y=\"1063.39\">-14.5</text>\n",
       "</g>\n",
       "<g clip-path=\"url(#clip1901)\">\n",
       "<text style=\"fill:#000000; fill-opacity:1; font-family:Arial,Helvetica Neue,Helvetica,sans-serif; font-size:48; text-anchor:end;\" transform=\"rotate(0, 192.266, 763.805)\" x=\"192.266\" y=\"763.805\">-14.0</text>\n",
       "</g>\n",
       "<g clip-path=\"url(#clip1901)\">\n",
       "<text style=\"fill:#000000; fill-opacity:1; font-family:Arial,Helvetica Neue,Helvetica,sans-serif; font-size:48; text-anchor:end;\" transform=\"rotate(0, 192.266, 464.222)\" x=\"192.266\" y=\"464.222\">-13.5</text>\n",
       "</g>\n",
       "<g clip-path=\"url(#clip1901)\">\n",
       "<text style=\"fill:#000000; fill-opacity:1; font-family:Arial,Helvetica Neue,Helvetica,sans-serif; font-size:48; text-anchor:end;\" transform=\"rotate(0, 192.266, 164.639)\" x=\"192.266\" y=\"164.639\">-13.0</text>\n",
       "</g>\n",
       "<circle clip-path=\"url(#clip1903)\" style=\"fill:#000000; stroke:none; fill-opacity:1\" cx=\"2261.68\" cy=\"1462.26\" r=\"14\"/>\n",
       "<circle clip-path=\"url(#clip1903)\" style=\"fill:#009af9; stroke:none; fill-opacity:1\" cx=\"2261.68\" cy=\"1462.26\" r=\"10\"/>\n",
       "<circle clip-path=\"url(#clip1903)\" style=\"fill:#000000; stroke:none; fill-opacity:1\" cx=\"1268.76\" cy=\"208.263\" r=\"14\"/>\n",
       "<circle clip-path=\"url(#clip1903)\" style=\"fill:#009af9; stroke:none; fill-opacity:1\" cx=\"1268.76\" cy=\"208.263\" r=\"10\"/>\n",
       "<circle clip-path=\"url(#clip1903)\" style=\"fill:#000000; stroke:none; fill-opacity:1\" cx=\"275.842\" cy=\"88.4582\" r=\"14\"/>\n",
       "<circle clip-path=\"url(#clip1903)\" style=\"fill:#009af9; stroke:none; fill-opacity:1\" cx=\"275.842\" cy=\"88.4582\" r=\"10\"/>\n",
       "</svg>\n"
      ]
     },
     "execution_count": 29,
     "metadata": {},
     "output_type": "execute_result"
    }
   ],
   "source": [
    "Y2 = abs.(num_vals2 - vals2)\n",
    "scatter(log.(10,X2),log.(10,Y2),legend=false,ms=3)"
   ]
  },
  {
   "cell_type": "code",
   "execution_count": null,
   "metadata": {},
   "outputs": [],
   "source": []
  }
 ],
 "metadata": {
  "kernelspec": {
   "display_name": "Julia 1.0.0",
   "language": "julia",
   "name": "julia-1.0"
  },
  "language_info": {
   "file_extension": ".jl",
   "mimetype": "application/julia",
   "name": "julia",
   "version": "1.0.1"
  }
 },
 "nbformat": 4,
 "nbformat_minor": 2
}
